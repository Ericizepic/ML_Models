{
  "cells": [
    {
      "cell_type": "markdown",
      "metadata": {
        "id": "n2dYlHWRAA1a"
      },
      "source": [
        "# W24 CS 480/680 assignment 1 (coding part)\n"
      ]
    },
    {
      "cell_type": "markdown",
      "metadata": {
        "id": "IuEDzbbiAcXo"
      },
      "source": [
        "- Please save a copy of this notebook to avoid losing your changes.\n",
        "- Debug your code and ensure that it can run before submission.\n",
        "- Save the output of each cell. Failure to do so may result in your coding questions not being graded.\n",
        "- Submit your completed version of this notebook.\n",
        "\n"
      ]
    },
    {
      "cell_type": "markdown",
      "metadata": {
        "id": "hu7upEwVALqo"
      },
      "source": [
        "## Implement Your Own Perceptron\n",
        "\n",
        "In this question, you are asked to implement the **Perceptron** algorithm and test with a classification task on the adult dataset. Please refer to the [dataset webpage](https://archive.ics.uci.edu/dataset/53/iris) for details on the dataset, and consult the lecture slides and suggested readings for details on the Perceptron algorithm.\n",
        "\n",
        "- `scikit-learn` or other off-the-shelf Perceptron libraries are not allowed to use.\n",
        "\n",
        "- Please note that `class` column is the label of the dataset. The labellings have three possible values. So you need to implement a multi-class extension of Perceptron.\n",
        "\n",
        "- Recording the accuracy on the training dataset when you train the Perceptron model on the training data, as an iteration. Repeat this step for 10 times.\n",
        "\n",
        "- It is required that you split the dataset into training/testing datasets (80% and 20%, respectively), and we will deduct marks if you don't.\n",
        "\n",
        "- You will get full marks for\n",
        "    - Correctly split data into training set and testing set.\n",
        "    - Correctly implement the perceptron algorithm.\n",
        "    - Correctly handle multiple class.\n",
        "    - A plot on training accuracy vs number of iterations, that relects the progress of the training.\n",
        "    - Final reported accuracy (on the test dataset)."
      ]
    },
    {
      "cell_type": "code",
      "execution_count": 19,
      "metadata": {
        "id": "gl0lxf-V-LYF"
      },
      "outputs": [],
      "source": [
        "import urllib.request\n",
        "import pandas as pd\n",
        "import numpy as np\n",
        "import random as rand\n",
        "import matplotlib.pyplot as plt\n",
        "# TODO: add any other package you need\n",
        "\n",
        "# Download the dataset\n",
        "url = 'https://archive.ics.uci.edu/ml/machine-learning-databases/iris/iris.data'\n",
        "filename = 'iris.csv'\n",
        "urllib.request.urlretrieve(url, filename)\n",
        "\n",
        "# Load the dataset into a Pandas dataframe\n",
        "column_names = ['sepal_length', 'sepal_width', 'petal_length', 'petal_width', 'class']\n",
        "data = pd.read_csv(filename, names=column_names)\n"
      ]
    },
    {
      "cell_type": "code",
      "execution_count": 20,
      "metadata": {
        "colab": {
          "base_uri": "https://localhost:8080/",
          "height": 206
        },
        "id": "LUWHsWBCiq2f",
        "outputId": "4929de01-c7aa-4ad8-96ab-1ccecb0a9aa2"
      },
      "outputs": [
        {
          "data": {
            "text/html": [
              "<div>\n",
              "<style scoped>\n",
              "    .dataframe tbody tr th:only-of-type {\n",
              "        vertical-align: middle;\n",
              "    }\n",
              "\n",
              "    .dataframe tbody tr th {\n",
              "        vertical-align: top;\n",
              "    }\n",
              "\n",
              "    .dataframe thead th {\n",
              "        text-align: right;\n",
              "    }\n",
              "</style>\n",
              "<table border=\"1\" class=\"dataframe\">\n",
              "  <thead>\n",
              "    <tr style=\"text-align: right;\">\n",
              "      <th></th>\n",
              "      <th>sepal_length</th>\n",
              "      <th>sepal_width</th>\n",
              "      <th>petal_length</th>\n",
              "      <th>petal_width</th>\n",
              "      <th>class</th>\n",
              "    </tr>\n",
              "  </thead>\n",
              "  <tbody>\n",
              "    <tr>\n",
              "      <th>0</th>\n",
              "      <td>5.1</td>\n",
              "      <td>3.5</td>\n",
              "      <td>1.4</td>\n",
              "      <td>0.2</td>\n",
              "      <td>Iris-setosa</td>\n",
              "    </tr>\n",
              "    <tr>\n",
              "      <th>1</th>\n",
              "      <td>4.9</td>\n",
              "      <td>3.0</td>\n",
              "      <td>1.4</td>\n",
              "      <td>0.2</td>\n",
              "      <td>Iris-setosa</td>\n",
              "    </tr>\n",
              "    <tr>\n",
              "      <th>2</th>\n",
              "      <td>4.7</td>\n",
              "      <td>3.2</td>\n",
              "      <td>1.3</td>\n",
              "      <td>0.2</td>\n",
              "      <td>Iris-setosa</td>\n",
              "    </tr>\n",
              "    <tr>\n",
              "      <th>3</th>\n",
              "      <td>4.6</td>\n",
              "      <td>3.1</td>\n",
              "      <td>1.5</td>\n",
              "      <td>0.2</td>\n",
              "      <td>Iris-setosa</td>\n",
              "    </tr>\n",
              "    <tr>\n",
              "      <th>4</th>\n",
              "      <td>5.0</td>\n",
              "      <td>3.6</td>\n",
              "      <td>1.4</td>\n",
              "      <td>0.2</td>\n",
              "      <td>Iris-setosa</td>\n",
              "    </tr>\n",
              "  </tbody>\n",
              "</table>\n",
              "</div>"
            ],
            "text/plain": [
              "   sepal_length  sepal_width  petal_length  petal_width        class\n",
              "0           5.1          3.5           1.4          0.2  Iris-setosa\n",
              "1           4.9          3.0           1.4          0.2  Iris-setosa\n",
              "2           4.7          3.2           1.3          0.2  Iris-setosa\n",
              "3           4.6          3.1           1.5          0.2  Iris-setosa\n",
              "4           5.0          3.6           1.4          0.2  Iris-setosa"
            ]
          },
          "execution_count": 20,
          "metadata": {},
          "output_type": "execute_result"
        }
      ],
      "source": [
        "data.head()"
      ]
    },
    {
      "cell_type": "markdown",
      "metadata": {
        "id": "_covQQeGU0bK"
      },
      "source": [
        "Code for dataset splitting (training-testing):"
      ]
    },
    {
      "cell_type": "code",
      "execution_count": 21,
      "metadata": {
        "id": "xJ6Xw9T-CHQg"
      },
      "outputs": [],
      "source": [
        "n = int(0.8*len(data)) #120\n",
        "train_data = data.sample(n, axis = 0)\n",
        "test_data = data.drop(index=train_data.index)"
      ]
    },
    {
      "cell_type": "markdown",
      "metadata": {
        "id": "ds-7f6JzVDq3"
      },
      "source": [
        "Code for implemeting the Perceptron algorithm:\n",
        "- You can either implement it as an class/object or implement the training function and the prediction function."
      ]
    },
    {
      "cell_type": "code",
      "execution_count": 22,
      "metadata": {
        "id": "FIq0ss_DVAnU"
      },
      "outputs": [],
      "source": [
        "class Perceptron:\n",
        "    w = np.zeros(4)\n",
        "    b = 0  \n",
        "\n",
        "    def __init__(self, dataset):\n",
        "        self.dataset = dataset       \n",
        "\n",
        "    def train_iteration(self):\n",
        "        for x,y in self.dataset:\n",
        "            if y*(np.dot(x,self.w) + self.b) <= 0:\n",
        "                self.w = self.w + y*x\n",
        "                self.b = self.b + y\n",
        "\n",
        "    def predict(self, x) -> float:\n",
        "        return np.dot(x,self.w) + self.b\n"
      ]
    },
    {
      "cell_type": "markdown",
      "metadata": {
        "id": "Rp0H9r1VYTwg"
      },
      "source": [
        "Code for implementing a wrapper function:\n",
        "- Handling multi-class extension\n",
        "- Feeding in data and call Perceptron training function\n",
        "- Outputing multiple Perceptrons that are trained"
      ]
    },
    {
      "cell_type": "code",
      "execution_count": 23,
      "metadata": {
        "id": "jXLprdF8YMyt"
      },
      "outputs": [],
      "source": [
        "classes = data['class'].unique()\n",
        "\n",
        "# one vs all\n",
        "def multiclass(data):\n",
        "    perceptrons = {}\n",
        "    for k in classes:\n",
        "        features = data.drop(columns=['class']).to_numpy()\n",
        "        labels = np.where(data['class'] == k, 1, -1)\n",
        "        p = Perceptron(list(zip(features, labels)))\n",
        "        perceptrons[k] = p\n",
        "\n",
        "    return perceptrons\n",
        "\n",
        "def multiclass_predict(data, perceptrons)->float:\n",
        "    accurate = 0\n",
        "    for i, row in data.iterrows():\n",
        "        y = row['class']\n",
        "        x = row.to_numpy()[:-1]\n",
        "        max_score = -np.infty\n",
        "        pred_class = \"\"\n",
        "        for k in classes:\n",
        "            new_score = perceptrons[k].predict(x)\n",
        "            if (new_score > max_score):\n",
        "                max_score = new_score\n",
        "                pred_class = k\n",
        "        \n",
        "        if pred_class == y:\n",
        "            accurate = accurate + 1\n",
        "    \n",
        "    return accurate/len(data)\n"
      ]
    },
    {
      "cell_type": "markdown",
      "metadata": {
        "id": "hqC_G4RGVKzr"
      },
      "source": [
        "Code for testing and ploting:\n",
        "\n"
      ]
    },
    {
      "cell_type": "code",
      "execution_count": 24,
      "metadata": {
        "id": "hy2lir66C2AJ"
      },
      "outputs": [
        {
          "name": "stdout",
          "output_type": "stream",
          "text": [
            "Training Accuracies: [0.38333333333333336, 0.7916666666666666, 0.6083333333333333, 0.9083333333333333, 0.9, 0.9083333333333333, 0.85, 0.6583333333333333, 0.7833333333333333, 0.9083333333333333]\n",
            "Final Test Accuracy: 0.9\n"
          ]
        },
        {
          "data": {
            "image/png": "[encoded data removed]",
            "text/plain": [
              "<Figure size 640x480 with 1 Axes>"
            ]
          },
          "metadata": {},
          "output_type": "display_data"
        }
      ],
      "source": [
        "# TODO: plot the accuracy against the number of iterations\n",
        "# TODO: report the final accuracy\n",
        "\n",
        "\n",
        "perceptrons = multiclass(train_data)\n",
        "training_accuracy = []\n",
        "\n",
        "for t in range(10):\n",
        "    for k in classes:\n",
        "        perceptrons[k].train_iteration()\n",
        "    training_accuracy.append(multiclass_predict(train_data, perceptrons))\n",
        "\n",
        "    \n",
        "final_accuracy = multiclass_predict(test_data, perceptrons)\n",
        "\n",
        "print(f\"Training Accuracies: {training_accuracy}\")\n",
        "print(f\"Final Test Accuracy: {final_accuracy}\")\n",
        "\n",
        "\n",
        "plt.title(\"Accuracy per Iteration\")\n",
        "plt.plot(range(1, 11), training_accuracy)\n",
        "plt.xlabel(\"Iteration\")\n",
        "plt.ylabel(\"Accuracy\")\n",
        "plt.show()\n",
        "    \n",
        "\n"
      ]
    },
    {
      "cell_type": "code",
      "execution_count": null,
      "metadata": {},
      "outputs": [],
      "source": []
    }
  ],
  "metadata": {
    "colab": {
      "provenance": []
    },
    "kernelspec": {
      "display_name": "Python 3",
      "name": "python3"
    },
    "language_info": {
      "codemirror_mode": {
        "name": "ipython",
        "version": 3
      },
      "file_extension": ".py",
      "mimetype": "text/x-python",
      "name": "python",
      "nbconvert_exporter": "python",
      "pygments_lexer": "ipython3",
      "version": "3.12.2"
    }
  },
  "nbformat": 4,
  "nbformat_minor": 0
}
