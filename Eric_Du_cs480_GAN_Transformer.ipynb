{
  "nbformat": 4,
  "nbformat_minor": 0,
  "metadata": {
    "colab": {
      "provenance": [],
      "machine_shape": "hm",
      "gpuType": "T4"
    },
    "kernelspec": {
      "name": "python3",
      "display_name": "Python 3"
    },
    "language_info": {
      "name": "python"
    },
    "accelerator": "GPU"
  },
  "cells": [
    {
      "cell_type": "markdown",
      "source": [
        "# CS 480/680 assignment 3\n",
        "\n",
        "Tips:\n",
        "- Please save a copy of this notebook to avoid losing your changes.\n",
        "- Debug your code and ensure that it can run.\n",
        "- Save the output of each cell. Failure to do so may result in your coding questions not being graded.\n",
        "- To accelerate the training time, you can choose 'Runtime' -> 'Change runtime type' -> 'Hardware accelerator' and set 'Hardware accelerator' to 'GPU'.\n",
        "- Your grade is independent of the accuracy of your models. Your grade will depend on the correctness of your code and implementation.\n",
        "\n",
        "Tips for sumbission:\n",
        "- Do not change the order of the problems.\n",
        "- Select 'Runtime' -> 'Run all' to run all cells and generate a final \"gradable\" version of your notebook and save your ipynb file.\n",
        "- Also use 'File' -> 'Print' and then print your report from your browser into a PDF file."
      ],
      "metadata": {
        "id": "uHZhkDjZEV-5"
      }
    },
    {
      "cell_type": "markdown",
      "source": [
        "## Question 1 - Implementing GAN for MNIST dataset (35 points)\n",
        "\n",
        "In this question we are going to impelement a generative network that can generate MNIST handwritten digits from random Gaussian noise."
      ],
      "metadata": {
        "id": "GK9gmfL4KxeF"
      }
    },
    {
      "cell_type": "markdown",
      "source": [
        "### Q1.1 (2 points)\n",
        "\n",
        "We start by creating the data loaders. Note that each MNIST image is of size 28\\*28. The **first task** is to build the ```data_loader```"
      ],
      "metadata": {
        "id": "_n-Mg5YdE5YR"
      }
    },
    {
      "cell_type": "code",
      "source": [
        "import torch\n",
        "import torch.nn as nn\n",
        "import torch.optim as optim\n",
        "from torchvision import datasets, transforms\n",
        "from torch.utils.data import DataLoader\n",
        "import matplotlib.pyplot as plt\n",
        "import os\n",
        "\n",
        "\n",
        "# Setting the device\n",
        "device = torch.device('cuda' if torch.cuda.is_available() else 'cpu')\n",
        "\n",
        "transform = transforms.Compose([\n",
        "    transforms.ToTensor(),\n",
        "    transforms.Normalize((0.5,), (0.5,))\n",
        "])\n",
        "batch_size = 100\n",
        "train_dataset = datasets.MNIST(root='./data', train=True, transform=transform, download=True)\n",
        "\n",
        "#ToDo: Build the train data loader using the above batch_size varibale and shuffling the dataset.\n",
        "data_loader = DataLoader(train_dataset, batch_size=batch_size, shuffle=True)\n",
        "\n"
      ],
      "metadata": {
        "id": "z-BU1m9IEXKY"
      },
      "execution_count": 16,
      "outputs": []
    },
    {
      "cell_type": "markdown",
      "source": [
        "### Q1.2 Generator (5 points)\n",
        "We will be building simple Generator and Discriminators that only consist of fully-connected layers. The Generator takes as input a Gaussian vector with dimension ```n_dim```. It consists of two linear layers with ```256``` and ```512``` nodes and the output layer should of dimension ```28*28=784``` so that it can be considered as unfolding a ```28*28``` image into a vector. The **second task** is to complete the following code for building the Generator."
      ],
      "metadata": {
        "id": "w_-NwpdfFGQs"
      }
    },
    {
      "cell_type": "code",
      "source": [
        "class Generator(nn.Module):\n",
        "    def __init__(self, n_dim):\n",
        "        super(Generator, self).__init__()\n",
        "        #ToDo: Complete the code\n",
        "        #The activation function for the two hidden layers is ReLU.\n",
        "        #The last layer's activation function is Tanh.\n",
        "        self.tanh = nn.Tanh()\n",
        "        self.relu = nn.ReLU()\n",
        "\n",
        "        self.lin1 = nn.Linear(n_dim, 256)\n",
        "        self.lin2 = nn.Linear(256, 512)\n",
        "        self.lin3 = nn.Linear(512, 28*28)\n",
        "\n",
        "    def forward(self, x):\n",
        "        #ToDo: Complete this function. The function takes as input x and outputs the result of applying the generator on x.\n",
        "\n",
        "        x = self.relu(self.lin1(x))\n",
        "        x = self.relu(self.lin2(x))\n",
        "        x = self.tanh(self.lin3(x))\n",
        "\n",
        "        return x\n",
        "\n"
      ],
      "metadata": {
        "id": "uACYmlwwG2tL"
      },
      "execution_count": 7,
      "outputs": []
    },
    {
      "cell_type": "markdown",
      "source": [
        "### Q1.3 Discriminator (5 points)\n",
        "The Discriminator takes as input an image of size ```28*28```. It consists of two linear layers with ```512``` and ```256``` nodes and the output layer should be a single node. The **third task** complete the following code for building the Discriminator."
      ],
      "metadata": {
        "id": "InnZY0glITeK"
      }
    },
    {
      "cell_type": "code",
      "source": [
        "class Discriminator(nn.Module):\n",
        "    def __init__(self):\n",
        "        super(Discriminator, self).__init__()\n",
        "            #ToDo: Complete the code\n",
        "            #The activation functions for the two hidden layers are ReLU.\n",
        "            #The last layer's activation function is Sigmoid.\n",
        "\n",
        "        self.sigmoid = nn.Sigmoid()\n",
        "        self.relu = nn.ReLU()\n",
        "\n",
        "        self.lin1 = nn.Linear(28*28, 512)\n",
        "        self.lin2 = nn.Linear(512, 256)\n",
        "        self.lin3 = nn.Linear(256, 1)\n",
        "\n",
        "    def forward(self, x):\n",
        "        x = x.view(x.size(0), -1) # Making sure that the batch of images has the shape [batch_size,28*28] instead of [batch_size,1,28,28]\n",
        "        #ToDo: Complete this function. The function takes as input x and outputs the result of applying the generator on x.\n",
        "        x = self.relu(self.lin1(x))\n",
        "        x = self.relu(self.lin2(x))\n",
        "        x = self.sigmoid(self.lin3(x))\n",
        "\n",
        "        return x\n"
      ],
      "metadata": {
        "id": "t5hdsi10JWJI"
      },
      "execution_count": 21,
      "outputs": []
    },
    {
      "cell_type": "markdown",
      "source": [
        "### Q1.4 Initializaiton (2 points)\n",
        "\n",
        "The **fourth task** is to define the optimizers."
      ],
      "metadata": {
        "id": "SXItGnRYK69p"
      }
    },
    {
      "cell_type": "code",
      "source": [
        "n_dim = 100\n",
        "generator = Generator(n_dim).to(device)\n",
        "discriminator = Discriminator().to(device)\n",
        "lr = 0.0002\n",
        "\n",
        "\n",
        "criterion = nn.BCELoss()\n",
        "#ToDo: define the two different Adam optimizers for generator and discriminator with learning rates of lr.\n",
        "\n",
        "d_optimizer = optim.Adam(discriminator.parameters(), lr=lr)\n",
        "g_optimizer = optim.Adam(generator.parameters(), lr=lr)"
      ],
      "metadata": {
        "id": "FyuaaCJLLCdE"
      },
      "execution_count": 22,
      "outputs": []
    },
    {
      "cell_type": "markdown",
      "source": [
        "### Q1.5 Training (16 points)\n",
        "\n",
        "Note that when applying the ```criterion``` both the inputs should be on the same device. If you are defining a set of labels that you want to use in ```criterion``` you must move them to ```device``` first.\n",
        "\n",
        "Recall from the Goodfellow et al. 2014 that the following happens during the minimax game between Discriminator and the Generator.\n",
        "\n",
        "Discriminator is ascending\n",
        "$\\nabla\\frac{1}{m}\\sum_{i=1}^m\\log D(x^{(i)}) + \\log(1-D(G(z^{(i)})))$ where $D$ and $G$ denote the Districiminator and the Generator, respectively. Here, $x^{1},\\ldots,x^{m}$ is the batch of training examples (i.e., MNIST images) and $z^{(1)},\\ldots,z^{(m)}$ is a batch of random noise.\n",
        "\n",
        "Also note that for two batches $x=\\{x^{1},\\ldots,x^{m}\\}$ and $y=\\{y^{1},\\ldots,y^{m}\\}$ the BCELoss function $l(x,y)$ computes the following.\n",
        "$$l(x,y) = \\frac{1}{m}\\sum_{i=1}^m y^{(i)}\\log x^{(i)} + (1-y^{(i)})\\log (1- x^{(i)})$$\n",
        "\n",
        "The **fifth task** is to make sure that ```d_loss``` is computing the quantity that discriminator wants to ascend. This is achieved by setting ```d_loss = d_loss_real + d_loss_fake``` and letting ```d_loss_real``` to be $\\frac{1}{m}\\sum_{i=1}^m\\log D(x^{(i)})$ and ```d_loss_fake``` to be $\\frac{1}{m}\\sum_{i=1}^m \\log(1-D(G(z^{(i)})))$. Hint: ```d_loss_real``` is already implemented.\n",
        "\n",
        "We now turn to train the generator. Initially, the generator wants to descend the following $\\nabla\\frac{1}{m}\\sum_{i=1}^m \\log(1-D(G(z^{(i)})))$. However, this may affect the training of the generator specifically in the early stages of training where the discriminator can confidently reject the generated examples [Goodfellow et al., 2014]. Instead, we will require the generator to ascend $\\nabla\\frac{1}{m}\\sum_{i=1}^m \\log(D(G(z^{(i)})))$. The **sixth task** is to compute ```g_loss``` used for training the generator.\n"
      ],
      "metadata": {
        "id": "ASpkAhASZs-m"
      }
    },
    {
      "cell_type": "code",
      "source": [
        "num_epochs = 50\n",
        "total_step = len(data_loader)\n",
        "for epoch in range(num_epochs):\n",
        "    for i, (images, _) in enumerate(data_loader):\n",
        "        real_images = images.to(device)\n",
        "\n",
        "        # Training discriminator\n",
        "        discriminator.zero_grad()\n",
        "        real_outputs = discriminator(real_images)\n",
        "        real_labels = torch.ones(real_images.size(0), 1, device = device)\n",
        "        d_loss_real = criterion(real_outputs, real_labels)\n",
        "\n",
        "        #ToDo: Compute d_loss_fake\n",
        "        noise = torch.randn(real_images.size(0), n_dim, device = device)\n",
        "        fake_outputs = discriminator(generator(noise))\n",
        "        fake_labels = torch.zeros(real_images.size(0), 1).to(device)\n",
        "        d_loss_fake = criterion(fake_outputs, fake_labels)\n",
        "\n",
        "        d_loss = d_loss_real + d_loss_fake\n",
        "        d_loss.backward()\n",
        "        d_optimizer.step()\n",
        "\n",
        "        # Training generator\n",
        "        generator.zero_grad()\n",
        "\n",
        "        #ToDo: compute g_loss\n",
        "        fake_outputs = discriminator(generator(noise))\n",
        "        g_loss = criterion(fake_outputs, real_labels)\n",
        "\n",
        "\n",
        "        g_loss.backward()\n",
        "        g_optimizer.step()\n",
        "\n",
        "        if (i+1) % 300 == 0:\n",
        "            print(f'Epoch [{epoch+1}/{num_epochs}], Step [{i+1}/{total_step}], '\n",
        "                  f'Discriminator Loss: {d_loss.item():.4f}, '\n",
        "                  f'Generator Loss: {g_loss.item():.4f}')"
      ],
      "metadata": {
        "id": "RA8t-sCQZ8SG",
        "colab": {
          "base_uri": "https://localhost:8080/"
        },
        "outputId": "6f06503b-ef13-462e-b6af-aee61fe48e85"
      },
      "execution_count": 42,
      "outputs": [
        {
          "output_type": "stream",
          "name": "stdout",
          "text": [
            "Epoch [1/50], Step [300/600], Discriminator Loss: 0.2117, Generator Loss: 4.6258\n",
            "Epoch [1/50], Step [600/600], Discriminator Loss: 0.3235, Generator Loss: 4.3278\n",
            "Epoch [2/50], Step [300/600], Discriminator Loss: 0.4144, Generator Loss: 6.1374\n",
            "Epoch [2/50], Step [600/600], Discriminator Loss: 0.2787, Generator Loss: 4.1941\n",
            "Epoch [3/50], Step [300/600], Discriminator Loss: 0.4161, Generator Loss: 3.8480\n",
            "Epoch [3/50], Step [600/600], Discriminator Loss: 0.3887, Generator Loss: 3.4993\n",
            "Epoch [4/50], Step [300/600], Discriminator Loss: 0.3867, Generator Loss: 4.3191\n",
            "Epoch [4/50], Step [600/600], Discriminator Loss: 0.3526, Generator Loss: 4.7127\n",
            "Epoch [5/50], Step [300/600], Discriminator Loss: 0.4203, Generator Loss: 4.1112\n",
            "Epoch [5/50], Step [600/600], Discriminator Loss: 0.3601, Generator Loss: 3.7398\n",
            "Epoch [6/50], Step [300/600], Discriminator Loss: 0.4954, Generator Loss: 3.6877\n",
            "Epoch [6/50], Step [600/600], Discriminator Loss: 0.2358, Generator Loss: 3.5866\n",
            "Epoch [7/50], Step [300/600], Discriminator Loss: 0.2345, Generator Loss: 4.5653\n",
            "Epoch [7/50], Step [600/600], Discriminator Loss: 0.3575, Generator Loss: 3.2576\n",
            "Epoch [8/50], Step [300/600], Discriminator Loss: 0.2546, Generator Loss: 2.7675\n",
            "Epoch [8/50], Step [600/600], Discriminator Loss: 0.3267, Generator Loss: 2.4796\n",
            "Epoch [9/50], Step [300/600], Discriminator Loss: 0.4124, Generator Loss: 2.9282\n",
            "Epoch [9/50], Step [600/600], Discriminator Loss: 0.3560, Generator Loss: 3.7318\n",
            "Epoch [10/50], Step [300/600], Discriminator Loss: 0.5662, Generator Loss: 3.0894\n",
            "Epoch [10/50], Step [600/600], Discriminator Loss: 0.3834, Generator Loss: 2.4573\n",
            "Epoch [11/50], Step [300/600], Discriminator Loss: 0.4157, Generator Loss: 3.8240\n",
            "Epoch [11/50], Step [600/600], Discriminator Loss: 0.2021, Generator Loss: 4.3231\n",
            "Epoch [12/50], Step [300/600], Discriminator Loss: 0.5653, Generator Loss: 4.2753\n",
            "Epoch [12/50], Step [600/600], Discriminator Loss: 0.3292, Generator Loss: 3.6124\n",
            "Epoch [13/50], Step [300/600], Discriminator Loss: 0.3649, Generator Loss: 2.8754\n",
            "Epoch [13/50], Step [600/600], Discriminator Loss: 0.4017, Generator Loss: 3.5234\n",
            "Epoch [14/50], Step [300/600], Discriminator Loss: 0.6053, Generator Loss: 2.6650\n",
            "Epoch [14/50], Step [600/600], Discriminator Loss: 0.5514, Generator Loss: 2.6595\n",
            "Epoch [15/50], Step [300/600], Discriminator Loss: 0.3867, Generator Loss: 2.8807\n",
            "Epoch [15/50], Step [600/600], Discriminator Loss: 0.6189, Generator Loss: 2.0481\n",
            "Epoch [16/50], Step [300/600], Discriminator Loss: 0.5840, Generator Loss: 2.7642\n",
            "Epoch [16/50], Step [600/600], Discriminator Loss: 0.4761, Generator Loss: 3.2615\n",
            "Epoch [17/50], Step [300/600], Discriminator Loss: 0.3275, Generator Loss: 2.6148\n",
            "Epoch [17/50], Step [600/600], Discriminator Loss: 0.5878, Generator Loss: 3.7849\n",
            "Epoch [18/50], Step [300/600], Discriminator Loss: 0.5043, Generator Loss: 2.9137\n",
            "Epoch [18/50], Step [600/600], Discriminator Loss: 0.4293, Generator Loss: 2.8745\n",
            "Epoch [19/50], Step [300/600], Discriminator Loss: 0.5326, Generator Loss: 2.6848\n",
            "Epoch [19/50], Step [600/600], Discriminator Loss: 0.6024, Generator Loss: 2.9284\n",
            "Epoch [20/50], Step [300/600], Discriminator Loss: 0.6751, Generator Loss: 2.2074\n",
            "Epoch [20/50], Step [600/600], Discriminator Loss: 0.5888, Generator Loss: 2.8922\n",
            "Epoch [21/50], Step [300/600], Discriminator Loss: 0.6202, Generator Loss: 3.0614\n",
            "Epoch [21/50], Step [600/600], Discriminator Loss: 0.5615, Generator Loss: 2.7047\n",
            "Epoch [22/50], Step [300/600], Discriminator Loss: 0.7530, Generator Loss: 2.3895\n",
            "Epoch [22/50], Step [600/600], Discriminator Loss: 0.3305, Generator Loss: 2.8557\n",
            "Epoch [23/50], Step [300/600], Discriminator Loss: 0.6373, Generator Loss: 2.2742\n",
            "Epoch [23/50], Step [600/600], Discriminator Loss: 0.4938, Generator Loss: 3.1968\n",
            "Epoch [24/50], Step [300/600], Discriminator Loss: 0.4328, Generator Loss: 2.9478\n",
            "Epoch [24/50], Step [600/600], Discriminator Loss: 0.6567, Generator Loss: 2.2331\n",
            "Epoch [25/50], Step [300/600], Discriminator Loss: 0.5597, Generator Loss: 2.5642\n",
            "Epoch [25/50], Step [600/600], Discriminator Loss: 0.5882, Generator Loss: 2.1118\n",
            "Epoch [26/50], Step [300/600], Discriminator Loss: 0.6488, Generator Loss: 1.6213\n",
            "Epoch [26/50], Step [600/600], Discriminator Loss: 0.5056, Generator Loss: 2.6080\n",
            "Epoch [27/50], Step [300/600], Discriminator Loss: 0.5655, Generator Loss: 2.3371\n",
            "Epoch [27/50], Step [600/600], Discriminator Loss: 0.6978, Generator Loss: 2.0915\n",
            "Epoch [28/50], Step [300/600], Discriminator Loss: 0.5502, Generator Loss: 2.4011\n",
            "Epoch [28/50], Step [600/600], Discriminator Loss: 0.6654, Generator Loss: 2.9483\n",
            "Epoch [29/50], Step [300/600], Discriminator Loss: 0.6969, Generator Loss: 2.5130\n",
            "Epoch [29/50], Step [600/600], Discriminator Loss: 0.6473, Generator Loss: 1.9091\n",
            "Epoch [30/50], Step [300/600], Discriminator Loss: 0.8672, Generator Loss: 2.3875\n",
            "Epoch [30/50], Step [600/600], Discriminator Loss: 0.6034, Generator Loss: 2.0926\n",
            "Epoch [31/50], Step [300/600], Discriminator Loss: 0.5524, Generator Loss: 2.2267\n",
            "Epoch [31/50], Step [600/600], Discriminator Loss: 0.7280, Generator Loss: 2.1093\n",
            "Epoch [32/50], Step [300/600], Discriminator Loss: 0.5496, Generator Loss: 2.0525\n",
            "Epoch [32/50], Step [600/600], Discriminator Loss: 0.7861, Generator Loss: 1.9080\n",
            "Epoch [33/50], Step [300/600], Discriminator Loss: 0.7036, Generator Loss: 2.0581\n",
            "Epoch [33/50], Step [600/600], Discriminator Loss: 0.9410, Generator Loss: 2.3293\n",
            "Epoch [34/50], Step [300/600], Discriminator Loss: 0.6501, Generator Loss: 2.4493\n",
            "Epoch [34/50], Step [600/600], Discriminator Loss: 0.7138, Generator Loss: 2.1829\n",
            "Epoch [35/50], Step [300/600], Discriminator Loss: 0.6970, Generator Loss: 2.1024\n",
            "Epoch [35/50], Step [600/600], Discriminator Loss: 0.6956, Generator Loss: 2.5235\n",
            "Epoch [36/50], Step [300/600], Discriminator Loss: 0.7313, Generator Loss: 2.4939\n",
            "Epoch [36/50], Step [600/600], Discriminator Loss: 0.9175, Generator Loss: 1.8606\n",
            "Epoch [37/50], Step [300/600], Discriminator Loss: 0.7282, Generator Loss: 2.0477\n",
            "Epoch [37/50], Step [600/600], Discriminator Loss: 0.6419, Generator Loss: 2.1242\n",
            "Epoch [38/50], Step [300/600], Discriminator Loss: 0.5400, Generator Loss: 1.8969\n",
            "Epoch [38/50], Step [600/600], Discriminator Loss: 0.7888, Generator Loss: 2.0613\n",
            "Epoch [39/50], Step [300/600], Discriminator Loss: 0.5933, Generator Loss: 2.3175\n",
            "Epoch [39/50], Step [600/600], Discriminator Loss: 0.7639, Generator Loss: 2.3120\n",
            "Epoch [40/50], Step [300/600], Discriminator Loss: 0.6787, Generator Loss: 1.9478\n",
            "Epoch [40/50], Step [600/600], Discriminator Loss: 0.9031, Generator Loss: 1.7004\n",
            "Epoch [41/50], Step [300/600], Discriminator Loss: 0.7413, Generator Loss: 1.6574\n",
            "Epoch [41/50], Step [600/600], Discriminator Loss: 0.9480, Generator Loss: 2.3747\n",
            "Epoch [42/50], Step [300/600], Discriminator Loss: 0.9039, Generator Loss: 1.4863\n",
            "Epoch [42/50], Step [600/600], Discriminator Loss: 0.9122, Generator Loss: 1.7324\n",
            "Epoch [43/50], Step [300/600], Discriminator Loss: 0.7613, Generator Loss: 1.9647\n",
            "Epoch [43/50], Step [600/600], Discriminator Loss: 0.9131, Generator Loss: 1.9710\n",
            "Epoch [44/50], Step [300/600], Discriminator Loss: 0.5780, Generator Loss: 1.9647\n",
            "Epoch [44/50], Step [600/600], Discriminator Loss: 0.8161, Generator Loss: 1.6091\n",
            "Epoch [45/50], Step [300/600], Discriminator Loss: 0.8224, Generator Loss: 2.0542\n",
            "Epoch [45/50], Step [600/600], Discriminator Loss: 0.9026, Generator Loss: 1.4491\n",
            "Epoch [46/50], Step [300/600], Discriminator Loss: 0.7137, Generator Loss: 1.9625\n",
            "Epoch [46/50], Step [600/600], Discriminator Loss: 0.8569, Generator Loss: 1.7020\n",
            "Epoch [47/50], Step [300/600], Discriminator Loss: 0.7026, Generator Loss: 1.8301\n",
            "Epoch [47/50], Step [600/600], Discriminator Loss: 0.7870, Generator Loss: 1.6203\n",
            "Epoch [48/50], Step [300/600], Discriminator Loss: 0.6749, Generator Loss: 1.8299\n",
            "Epoch [48/50], Step [600/600], Discriminator Loss: 0.6081, Generator Loss: 2.0893\n",
            "Epoch [49/50], Step [300/600], Discriminator Loss: 0.6991, Generator Loss: 2.5707\n",
            "Epoch [49/50], Step [600/600], Discriminator Loss: 0.7061, Generator Loss: 2.2652\n",
            "Epoch [50/50], Step [300/600], Discriminator Loss: 0.8781, Generator Loss: 1.6427\n",
            "Epoch [50/50], Step [600/600], Discriminator Loss: 0.7378, Generator Loss: 1.6719\n"
          ]
        }
      ]
    },
    {
      "cell_type": "markdown",
      "source": [
        "### Q1.6 Plotting the results (5 points)\n",
        "The **seventh and final task** for this question is to try the trained generator. Generate 4 random vectors, apply the generator on them, and plot the resulting image in a single 2 by 2 plot."
      ],
      "metadata": {
        "id": "q3CGaQzDDRg8"
      }
    },
    {
      "cell_type": "code",
      "source": [
        "with torch.no_grad():\n",
        "      fig, axis = plt.subplots(2,2)\n",
        "      for i, ax in enumerate(axis.flatten()):\n",
        "        noise = torch.randn(n_dim, device = device)\n",
        "        ax.imshow(generator(noise).cpu().reshape(28,28), cmap=\"gray\")\n",
        "\n",
        "plt.show()"
      ],
      "metadata": {
        "id": "lvUJnaqSJCPM",
        "colab": {
          "base_uri": "https://localhost:8080/",
          "height": 432
        },
        "outputId": "b181701c-2136-4c97-fd7d-b27f919b2ae2"
      },
      "execution_count": 48,
      "outputs": [
        {
          "output_type": "display_data",
          "data": {
            "text/plain": [
              "<Figure size 640x480 with 4 Axes>"
            ],
            "image/png": "[encoded data removed]"
          },
          "metadata": {}
        }
      ]
    },
    {
      "cell_type": "markdown",
      "source": [
        "## Question 2 - Transformers (65 points)\n",
        "In this question we will be implementing a transformer architecture and apply it on a simple artificially generated dataset."
      ],
      "metadata": {
        "id": "ifoL2LfccMKA"
      }
    },
    {
      "cell_type": "markdown",
      "source": [
        "### Q2.1 Multi-Head Attention (9 points)\n",
        "\n",
        "The attention layer works on batches of training data where each training data itself is a sequence of words/token with length at most ```seq_length``` and each word is embedded into a ```d_embedding``` dimensional vector, e.g., later when we run the transformer on the artificial dataset, the inputs to the transformer and attention layer have shapes of ```[batch_size,seq_length,d_embedding]```. Recall from the lecture that a multi-head attention layer consists of ```n_heads``` self-attention heads. The input matrices Query Q, Key K, and Value V to multi-attention head are passed through linear layers $W_Q$, $W_K$, and $W_V$ which are trainable parameters. The multi-head attention will divide the embedding vector of the input into ```n_heads``` vector of size ```d_k``` and use each as an attention head. This is particularly done by the ```make_heads``` function which transforms the input to an output of shape ```[batch_size, n_heads, seq_length, d_k]```. The multi-head attention then computes the probabilities using the input values, which is implemented by the ```compute_attention_probs``` function. It then joins them using the ```join_heads``` function and finally passes them through an output linear layer $W_O$. The **first task** is to implement the ```forward``` function of Multi-Head attention using the functions already implemented."
      ],
      "metadata": {
        "id": "qtZX21CEcu6p"
      }
    },
    {
      "cell_type": "code",
      "source": [
        "import torch\n",
        "import torch.nn as nn\n",
        "import torch.optim as optim\n",
        "import torch.utils.data as data\n",
        "import math\n",
        "import copy\n",
        "\n",
        "class MultiHeadAttention(nn.Module):\n",
        "    def __init__(self, d_embedding, n_heads):\n",
        "        super(MultiHeadAttention, self).__init__()\n",
        "        assert d_embedding % n_heads == 0\n",
        "\n",
        "        self.d_embedding = d_embedding\n",
        "        self.n_heads = n_heads\n",
        "        self.d_k = d_embedding // n_heads\n",
        "\n",
        "        self.W_q = nn.Linear(d_embedding, d_embedding)\n",
        "        self.W_k = nn.Linear(d_embedding, d_embedding)\n",
        "        self.W_v = nn.Linear(d_embedding, d_embedding)\n",
        "        self.W_o = nn.Linear(d_embedding, d_embedding)\n",
        "\n",
        "    def compute_attention_probs(self, Q, K, V, mask=None):\n",
        "        attn_scores = torch.matmul(Q, K.transpose(-2, -1)) / math.sqrt(self.d_k)\n",
        "        if mask is not None:\n",
        "            attn_scores = attn_scores.masked_fill(mask == 0, -1e9)\n",
        "        attn_probs = torch.softmax(attn_scores, dim=-1)\n",
        "        output = torch.matmul(attn_probs, V)\n",
        "        return output\n",
        "\n",
        "\n",
        "    def make_heads(self, x):\n",
        "        batch_size, seq_length, d_embedding = x.size()\n",
        "        y=x.view(batch_size, seq_length, self.n_heads, self.d_k).transpose(1, 2)\n",
        "        return x.view(batch_size, seq_length, self.n_heads, self.d_k).transpose(1, 2)\n",
        "\n",
        "    def join_heads(self, x):\n",
        "        batch_size, _, seq_length, d_k = x.size()\n",
        "        return x.transpose(1, 2).contiguous().view(batch_size, seq_length, self.d_embedding)\n",
        "\n",
        "    def forward(self, Q, K, V, mask=None):\n",
        "        #ToDo: Complete code\n",
        "\n",
        "        Q = self.make_heads(self.W_q(Q))\n",
        "        K = self.make_heads(self.W_k(K))\n",
        "        V = self.make_heads(self.W_v(V))\n",
        "\n",
        "        attention_probs = self.compute_attention_probs(Q,K,V,mask)\n",
        "        return self.W_o(self.join_heads(attention_probs))\n",
        "\n",
        "\n"
      ],
      "metadata": {
        "id": "pE_j8e5u4aLv"
      },
      "execution_count": 91,
      "outputs": []
    },
    {
      "cell_type": "markdown",
      "source": [
        "### Q2.2 Feed-forward layer (2 points)\n",
        "The output of the multi-head attention layer is used as an input to the feed-forward layer in the encoder. This layer is implemented in the following class. The **second task** is to complete the ```forward``` function of this class."
      ],
      "metadata": {
        "id": "nT0KE6fB6497"
      }
    },
    {
      "cell_type": "code",
      "source": [
        "class FeedForward(nn.Module):\n",
        "    def __init__(self, d_embedding, d_ff):\n",
        "        super(FeedForward, self).__init__()\n",
        "        self.fc1 = nn.Linear(d_embedding, d_ff)\n",
        "        self.fc2 = nn.Linear(d_ff, d_embedding)\n",
        "        self.relu = nn.ReLU()\n",
        "\n",
        "    def forward(self, x):\n",
        "        #ToDO: Complete code\n",
        "        x = self.fc1(x)\n",
        "        x = self.relu(x)\n",
        "        x = self.fc2(x)\n",
        "        return x"
      ],
      "metadata": {
        "id": "InGgN9XN7muD"
      },
      "execution_count": 92,
      "outputs": []
    },
    {
      "cell_type": "markdown",
      "source": [
        "### Q2.3 Encoder Block (9 points)\n",
        "\n",
        "We now have all the necessary classes to build the Encoder block. The encoder block gets as input a batch of data. It first passes the input through the multi-attention layer. It then applies 1) a droput layer, 2) adds the input to the output of droupout layer as a residual, 3) applies a layer normalization, 4) and passes the output to the feed-forward layer. Finally, it applies 1) a droput layer, 2) adds the input to the output of droupout layer as a residual, and 3) Applies a layer normalization. The **third task** is to complete the ```forward``` function of this class."
      ],
      "metadata": {
        "id": "uaZ1PCFJ9DXf"
      }
    },
    {
      "cell_type": "code",
      "source": [
        "class EncoderBlock(nn.Module):\n",
        "    def __init__(self, d_embedding, n_heads, d_ff, dropout):\n",
        "        super(EncoderBlock, self).__init__()\n",
        "        self.self_attention = MultiHeadAttention(d_embedding, n_heads)\n",
        "        self.feed_forward = FeedForward(d_embedding, d_ff)\n",
        "        self.norm1 = nn.LayerNorm(d_embedding)\n",
        "        self.norm2 = nn.LayerNorm(d_embedding)\n",
        "        self.dropout = nn.Dropout(dropout)\n",
        "\n",
        "    def forward(self, x, mask):\n",
        "        #ToDo: Complete code\n",
        "        \"\"\"\n",
        "        Returns: The output of encoder on a given input batch x\n",
        "        \"\"\"\n",
        "        attention_res = self.self_attention(x, x, x, mask)\n",
        "        x = x + self.dropout(attention_res)\n",
        "        x = self.norm1(x)\n",
        "        feedforward_res = self.feed_forward(x)\n",
        "        x = x + self.dropout(feedforward_res)\n",
        "        x = self.norm2(x)\n",
        "        return x\n"
      ],
      "metadata": {
        "id": "s0MnjetG_Zum"
      },
      "execution_count": 93,
      "outputs": []
    },
    {
      "cell_type": "markdown",
      "source": [
        "### Q2.4 Decoder Block (20 points)\n",
        "\n",
        "In this part we will build the decoder block. The **fourth task** is to implement the DecoderBlock. You can refer to the lecture notes to find the architecture of the decoder block including the multi-attention layers, add and norm layers, and the feedforward layer. You can also add a *dropout* layer to the final add and norm layer.\n"
      ],
      "metadata": {
        "id": "jru9E9dZ_aKv"
      }
    },
    {
      "cell_type": "code",
      "source": [
        "class DecoderBlock(nn.Module):\n",
        "    def __init__(self, d_embedding, n_heads, d_ff, dropout):\n",
        "        super(DecoderBlock, self).__init__()\n",
        "        \"\"\"\n",
        "        Args:\n",
        "           self_attention: decoder's multi-head attention\n",
        "           cross_attention: The multi-head attention layer between the encoder and the decoder\n",
        "           feed_forward: feed-forward layer\n",
        "           mask: mask to be given for multi head attention\n",
        "           norm1: First Normalization layer\n",
        "           norm2: Second Normalization layer\n",
        "           norm3: Third Normalization layer\n",
        "           dropout: Final dropout layer\n",
        "        \"\"\"\n",
        "        self.self_attention = MultiHeadAttention(d_embedding, n_heads)\n",
        "        self.cross_attention = MultiHeadAttention(d_embedding, n_heads)\n",
        "        self.feed_forward = FeedForward(d_embedding, d_ff)\n",
        "        self.norm1 = nn.LayerNorm(d_embedding)\n",
        "        self.norm2 = nn.LayerNorm(d_embedding)\n",
        "        self.norm3 = nn.LayerNorm(d_embedding)\n",
        "        self.dropout = nn.Dropout(dropout)\n",
        "\n",
        "    def forward(self, x, enc_output, src_mask, tgt_mask):\n",
        "        \"\"\"\n",
        "        Returns: The output of decoder on a given input batch x\n",
        "        \"\"\"\n",
        "        attention_res = self.self_attention(x, x, x, tgt_mask)\n",
        "        x = x + self.dropout(attention_res)\n",
        "        x = self.norm1(x)\n",
        "        cross_res = self.cross_attention(x, enc_output, enc_output, src_mask)\n",
        "        x = x + self.dropout(cross_res)\n",
        "        x = self.norm2(x)\n",
        "        feedforward_res = self.feed_forward(x)\n",
        "        x = x + self.dropout(feedforward_res)\n",
        "        x = self.norm3(x)\n",
        "\n",
        "        return x\n"
      ],
      "metadata": {
        "id": "HCX_D3xoFYJo"
      },
      "execution_count": 94,
      "outputs": []
    },
    {
      "cell_type": "markdown",
      "source": [
        "### Q2.5 Transformer Block (20 points)\n",
        "\n",
        "Finally, we use the classes defined for EncoderBlock and DecoderBlock to build the TransformerBlock. The **fifth task** is to complete the ```forward``` function of this class. Note that ```num_layers``` indicates the number of encoder and decoder layers in the transformer. You can refer to the final architecture of the Transformer from the lectures. You can also include a dropout layer after embedding the source and target inputs. Remember to apply positional encoding to the input batch before passing it to the transformer."
      ],
      "metadata": {
        "id": "UyH9ROxRI252"
      }
    },
    {
      "cell_type": "code",
      "source": [
        "class PositionalEncoding(nn.Module):\n",
        "    def __init__(self, d_embedding, max_seq_length):\n",
        "        super(PositionalEncoding, self).__init__()\n",
        "\n",
        "        pe = torch.zeros(max_seq_length, d_embedding)\n",
        "        position = torch.arange(0, max_seq_length, dtype=torch.float).unsqueeze(1)\n",
        "        div_term = torch.exp(torch.arange(0, d_embedding, 2).float() * -(math.log(10000.0) / d_embedding))\n",
        "\n",
        "        pe[:, 0::2] = torch.sin(position * div_term)\n",
        "        pe[:, 1::2] = torch.cos(position * div_term)\n",
        "\n",
        "        self.register_buffer('pe', pe.unsqueeze(0))\n",
        "\n",
        "    def forward(self, x):\n",
        "        return x + self.pe[:, :x.size(1)]\n",
        "\n",
        "class Transformer(nn.Module):\n",
        "    def __init__(self, src_vocab_size, tgt_vocab_size, d_embedding, n_heads, num_layers, d_ff, max_seq_length, dropout):\n",
        "        super(Transformer, self).__init__()\n",
        "        self.encoder_embedding = nn.Embedding(src_vocab_size, d_embedding)\n",
        "        self.decoder_embedding = nn.Embedding(tgt_vocab_size, d_embedding)\n",
        "        self.positional_encoding = PositionalEncoding(d_embedding, max_seq_length)\n",
        "\n",
        "        self.encoder_layers = nn.ModuleList([EncoderBlock(d_embedding, n_heads, d_ff, dropout) for _ in range(num_layers)])\n",
        "        self.decoder_layers = nn.ModuleList([DecoderBlock(d_embedding, n_heads, d_ff, dropout) for _ in range(num_layers)])\n",
        "\n",
        "        self.fc = nn.Linear(d_embedding, tgt_vocab_size)\n",
        "        self.dropout = nn.Dropout(dropout)\n",
        "\n",
        "    # Masking the input; the outputs returned by this function should be passed to encoder and decoder layers\n",
        "    def generate_mask(self, src, tgt):\n",
        "        src_mask = (src != 0).unsqueeze(1).unsqueeze(2)\n",
        "        tgt_mask = (tgt != 0).unsqueeze(1).unsqueeze(3)\n",
        "        seq_length = tgt.size(1)\n",
        "        nopeak_mask = (1 - torch.triu(torch.ones(1, seq_length, seq_length), diagonal=1)).bool()\n",
        "        tgt_mask = tgt_mask & nopeak_mask\n",
        "        return src_mask, tgt_mask\n",
        "\n",
        "    def forward(self, src, tgt):\n",
        "        #ToDo: complete the code\n",
        "        src_mask, tgt_mask = self.generate_mask(src, tgt)\n",
        "        \"\"\"\n",
        "        Returns: The output of transformer on a given input batch x\n",
        "        \"\"\"\n",
        "        encoding = self.dropout(self.positional_encoding(self.encoder_embedding(src)))\n",
        "        decoding = self.dropout(self.positional_encoding(self.decoder_embedding(tgt)))\n",
        "\n",
        "        for layer in self.encoder_layers:\n",
        "          encoding = layer(encoding, src_mask)\n",
        "\n",
        "        for layer in self.decoder_layers:\n",
        "          decoding = layer(decoding, encoding, src_mask, tgt_mask)\n",
        "\n",
        "        return self.fc(decoding)\n",
        "\n"
      ],
      "metadata": {
        "id": "2Sz2JAuwmnNn"
      },
      "execution_count": 95,
      "outputs": []
    },
    {
      "cell_type": "markdown",
      "source": [
        "### Q2.6 Training (5 points)\n",
        "We can now train the model on an imaginary randomly generated dataset. The **sixth task** is to complete the training code and plot the training loss."
      ],
      "metadata": {
        "id": "dGtuTlqWms4B"
      }
    },
    {
      "cell_type": "code",
      "source": [
        "src_vocab_size = 5000\n",
        "tgt_vocab_size = 5000\n",
        "d_embedding = 512\n",
        "n_heads = 8\n",
        "num_layers = 6\n",
        "d_ff = 2048\n",
        "max_seq_length = 100\n",
        "dropout = 0.1\n",
        "\n",
        "transformer = Transformer(src_vocab_size, tgt_vocab_size, d_embedding, n_heads, num_layers, d_ff, max_seq_length, dropout)\n",
        "\n",
        "# Generate random sample data\n",
        "src_data = torch.randint(1, src_vocab_size, (64, max_seq_length))\n",
        "tgt_data = torch.randint(1, tgt_vocab_size, (64, max_seq_length))\n",
        "\n",
        "criterion = nn.CrossEntropyLoss(ignore_index=0)\n",
        "optimizer = optim.Adam(transformer.parameters(), lr=0.0001, betas=(0.9, 0.98), eps=1e-9)\n",
        "\n",
        "transformer.train()\n",
        "\n",
        "x = [i for i in range(25)]\n",
        "y = []\n",
        "\n",
        "for epoch in range(25):\n",
        "    #ToDo: complete the code\n",
        "    optimizer.zero_grad()\n",
        "    output = transformer(src_data, tgt_data[:, :-1])\n",
        "    loss = criterion(output.contiguous().view(-1, tgt_vocab_size), tgt_data[:, 1:].contiguous().view(-1))\n",
        "    loss.backward()\n",
        "    optimizer.step()\n",
        "    y.append(loss.item())\n",
        "\n",
        "plt.plot(x, y, 'bo-')\n",
        "plt.title('Loss vs Epoch')\n",
        "plt.xlabel('Epochs')\n",
        "plt.ylabel('Loss')\n",
        "plt.legend()\n",
        "plt.grid(True)\n",
        "plt.show()\n",
        "\n"
      ],
      "metadata": {
        "id": "94xoG6QF5gnv",
        "colab": {
          "base_uri": "https://localhost:8080/",
          "height": 489
        },
        "outputId": "b5769340-716a-4d78-9421-c4ba80ce19ba"
      },
      "execution_count": 96,
      "outputs": [
        {
          "output_type": "stream",
          "name": "stderr",
          "text": [
            "WARNING:matplotlib.legend:No artists with labels found to put in legend.  Note that artists whose label start with an underscore are ignored when legend() is called with no argument.\n"
          ]
        },
        {
          "output_type": "display_data",
          "data": {
            "text/plain": [
              "<Figure size 640x480 with 1 Axes>"
            ],
            "image/png": "[encoded data removed]"
          },
          "metadata": {}
        }
      ]
    }
  ]
}