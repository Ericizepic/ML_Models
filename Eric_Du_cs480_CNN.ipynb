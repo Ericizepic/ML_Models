{
  "cells": [
    {
      "cell_type": "markdown",
      "source": [
        "# CS 480/680 assignment 2\n",
        "\n",
        "Tips:\n",
        "- Please save a copy of this notebook to avoid losing your changes.\n",
        "- Debug your code and ensure that it can run.\n",
        "- Save the output of each cell. Failure to do so may result in your coding questions not being graded.\n",
        "- To accelerate the training time, you can choose 'Runtime' -> 'Change runtime type' -> 'Hardware accelerator' and set 'Hardware accelerator' to 'GPU'. I tested the code on different devices: A100, T4, and M1 CPU; the execution times for training are approximately 14 minutes, 15 minutes, and 41 minutes, respectively.\n",
        "- Your grade is independent of the test accuracy (unless it is 10%, as 10% is the accuracy of random guess).\n",
        "\n",
        "Tips for sumbission:\n",
        "- Do not change the order of the problems.\n",
        "- Select 'Runtime' -> 'Run all' to run all cells and generate a final \"gradable\" version of your notebook and save your ipynb file.\n",
        "- Also use 'File' -> 'Print' and then print your report from your browser into a PDF file."
      ],
      "metadata": {
        "id": "-yQ2Av1NIWTn"
      }
    },
    {
      "cell_type": "code",
      "source": [
        "import numpy as np\n",
        "import matplotlib.pyplot as plt\n",
        "import torch\n",
        "import torch.nn as nn\n",
        "import torch.nn.functional as F\n",
        "import torchvision\n",
        "from torchvision import datasets\n",
        "import torchvision.transforms as transforms\n",
        "from torch.optim import Optimizer\n",
        "from torch.utils.data import DataLoader, random_split\n",
        "from tqdm import tqdm\n",
        "from typing import Tuple\n",
        "from math import floor, sqrt\n",
        "import random as rand"
      ],
      "metadata": {
        "id": "bIfyXOkcM4-2"
      },
      "execution_count": 1,
      "outputs": []
    },
    {
      "cell_type": "markdown",
      "source": [
        "## Helper functions\n",
        "\n",
        "You can use the following functions to verify the correctness of your implementation. For example, you can call ```verify_conv2d()``` to check the effectiveness of your ```Conv2d``` implementation."
      ],
      "metadata": {
        "id": "JetnIX7XJTKW"
      }
    },
    {
      "cell_type": "code",
      "source": [
        "def verify_conv2d():\n",
        "    x = torch.randn(2, 4, 64, 64)\n",
        "    in_channels = 4\n",
        "    out_channels = 16\n",
        "    kernel_size = 3\n",
        "    stride = 3\n",
        "    padding = 2\n",
        "\n",
        "\n",
        "    conv_pytorch = nn.Conv2d(in_channels, out_channels, kernel_size, stride, padding)\n",
        "    output_pytorch = conv_pytorch(x)\n",
        "\n",
        "    conv_custom = Conv2d(in_channels, out_channels, kernel_size, stride, padding)\n",
        "    conv_custom.weight.data = conv_pytorch.weight.data.clone()\n",
        "    conv_custom.bias.data = conv_pytorch.bias.data.clone()\n",
        "    output_custom = conv_custom(x)\n",
        "    difference = (output_pytorch - output_custom).abs().max()\n",
        "    return (difference < 1e-06).item()"
      ],
      "metadata": {
        "id": "eZyJtXZtIp6N"
      },
      "execution_count": 2,
      "outputs": []
    },
    {
      "cell_type": "code",
      "source": [
        "@torch.no_grad\n",
        "def verify_dropout():\n",
        "    p = rand.random()\n",
        "    n = int(1e5)\n",
        "    x = torch.randn(5,)\n",
        "    x = x.to(device)\n",
        "\n",
        "    weight = torch.randn(5,)\n",
        "    weight = weight.to(device)\n",
        "\n",
        "    y = torch.dot(x, weight)\n",
        "    y = y.to(device)\n",
        "\n",
        "    print('x dot product weight', y)\n",
        "\n",
        "    dropout_pytorch = nn.Dropout(p)\n",
        "    dropout_custom = Dropout(p)\n",
        "\n",
        "    dropout_pytorch.eval()\n",
        "    dropout_custom.eval()\n",
        "\n",
        "    output_pytorch = torch.dot(weight, dropout_pytorch(x))\n",
        "    output_custom = torch.dot(weight, dropout_custom(x))\n",
        "    assert torch.allclose(output_pytorch, output_custom), \"The outputs are not the same in evaluation mode.\"\n",
        "\n",
        "    dropout_pytorch.train()\n",
        "    dropout_custom.train()\n",
        "\n",
        "    pytorch_dropout_train = torch.zeros_like(output_pytorch)\n",
        "    custom_dropout_train = torch.zeros_like(output_custom)\n",
        "\n",
        "\n",
        "    for _ in range(n):\n",
        "        x_hat = dropout_pytorch(x)\n",
        "        pytorch_dropout_train += torch.dot(x_hat, weight)\n",
        "        x_hat = dropout_custom(x)\n",
        "        custom_dropout_train += torch.dot(x_hat, weight)\n",
        "\n",
        "    pytorch_dropout_train /= n\n",
        "    custom_dropout_train /= n\n",
        "\n",
        "    print('Empirical mean of Pytorch Dropout result', pytorch_dropout_train)\n",
        "    print('Empirical mean of Custom Dropout result', custom_dropout_train)"
      ],
      "metadata": {
        "id": "IhOzASnGIy_d"
      },
      "execution_count": 3,
      "outputs": []
    },
    {
      "cell_type": "code",
      "source": [
        "@torch.no_grad\n",
        "def verify_batchnorm():\n",
        "    x = torch.randn(2, 3, 4, 4)\n",
        "\n",
        "    num_features = x.shape[1]\n",
        "\n",
        "    custom_bn = BatchNorm2d(num_features, eps=1e-5, momentum=0.1)\n",
        "    pytorch_bn = nn.BatchNorm2d(num_features, eps=1e-5, momentum=0.1)\n",
        "\n",
        "    pytorch_bn.weight.data = custom_bn.weight.data.clone()\n",
        "    pytorch_bn.bias.data = custom_bn.bias.data.clone()\n",
        "    pytorch_bn.running_mean = custom_bn.running_mean.clone()\n",
        "    pytorch_bn.running_var = custom_bn.running_var.clone()\n",
        "\n",
        "    custom_bn.train()\n",
        "    pytorch_bn.train()\n",
        "\n",
        "    output_custom = custom_bn(x)\n",
        "    output_pytorch = pytorch_bn(x)\n",
        "\n",
        "    difference = (output_custom - output_pytorch).abs().max()\n",
        "    return (difference < 1e-06).item()"
      ],
      "metadata": {
        "id": "olB9uVEdJA8r"
      },
      "execution_count": 4,
      "outputs": []
    },
    {
      "cell_type": "code",
      "source": [
        "@torch.no_grad\n",
        "def eval_accuracy(model, eval_loader, device):\n",
        "    model.eval()\n",
        "    n_correct = 0\n",
        "    n_total = 0\n",
        "    for imgs, labels in eval_loader:\n",
        "        imgs, labels = imgs.to(device), labels.to(device)\n",
        "        logits = model(imgs)\n",
        "        _, pred = torch.max(logits, 1)\n",
        "\n",
        "        n_correct += (pred == labels).sum().item()\n",
        "        n_total += len(labels)\n",
        "\n",
        "    return n_correct / n_total"
      ],
      "metadata": {
        "id": "WZajlqkLJcC0"
      },
      "execution_count": 5,
      "outputs": []
    },
    {
      "cell_type": "code",
      "source": [
        "def plot_curves(train_error_rates, val_error_rates):\n",
        "    plt.figure(figsize=(10, 6))\n",
        "    epochs = range(1, len(train_error_rates) + 1)\n",
        "    plt.plot(epochs, train_error_rates, 'bo-', label='Training Error')\n",
        "    plt.plot(epochs, val_error_rates, 'ro-', label='Validation Error')\n",
        "    plt.title('Training and Validation Error Rates')\n",
        "    plt.xlabel('Epochs')\n",
        "    plt.ylabel('Error Rate')\n",
        "    plt.legend()\n",
        "    plt.grid(True)\n",
        "    plt.show()"
      ],
      "metadata": {
        "id": "gZ8GOvVyLTN9"
      },
      "execution_count": 6,
      "outputs": []
    },
    {
      "cell_type": "code",
      "source": [
        "def imshow(img):\n",
        "    img = img / 2 + 0.5\n",
        "    npimg = img.numpy()\n",
        "    plt.imshow(np.transpose(npimg, (1, 2, 0)))\n",
        "\n",
        "classes = ['airplane', 'automobile', 'bird', 'cat', 'deer',\n",
        "           'dog', 'frog', 'horse', 'ship', 'truck']\n",
        "\n",
        "def show_batch(data_loader):\n",
        "    dataiter = iter(data_loader)\n",
        "    images, labels = next(dataiter)\n",
        "    fig = plt.figure(figsize=(25, 4))\n",
        "    for idx in range(20):\n",
        "        ax = fig.add_subplot(2, 10, idx+1, xticks=[], yticks=[])\n",
        "        imshow(images[idx])\n",
        "        ax.set_title(classes[labels[idx]])"
      ],
      "metadata": {
        "id": "WOUxM8HCLoNI"
      },
      "execution_count": 7,
      "outputs": []
    },
    {
      "cell_type": "markdown",
      "source": [
        "# Question 1. Loading dataset (5 points)\n",
        "In this question, you are asked to fill out the ```build_loaders```, in other words, to prepare the training, validation, and test sets. In the following code, you need to randomly split ```train_data``` into training and validation sets. We use 80% of ```train_data``` as the training set and the rest of ```train_data``` as the validation set. Please use DataLoader in PyTorch to create three different dataloaders: one each for training, validation, and testing."
      ],
      "metadata": {
        "id": "Pjm7j2siKyh9"
      }
    },
    {
      "cell_type": "code",
      "source": [
        "device = torch.device(\"cuda\" if torch.cuda.is_available() else \"cpu\")\n",
        "torch.manual_seed(2024)"
      ],
      "metadata": {
        "id": "zaxPAE4wJQkK",
        "colab": {
          "base_uri": "https://localhost:8080/"
        },
        "outputId": "bb5ca786-5797-4363-d3ec-40d572552287"
      },
      "execution_count": 8,
      "outputs": [
        {
          "output_type": "execute_result",
          "data": {
            "text/plain": [
              "<torch._C.Generator at 0x7c34102c5e90>"
            ]
          },
          "metadata": {},
          "execution_count": 8
        }
      ]
    },
    {
      "cell_type": "code",
      "source": [
        "batch_size = 128\n",
        "\n",
        "normalize = transforms.Normalize(mean=[0.485, 0.456, 0.406],\n",
        "                                 std=[0.229, 0.224, 0.225])\n",
        "\n",
        "transform = transforms.Compose([\n",
        "    transforms.RandomHorizontalFlip(),\n",
        "    transforms.RandomCrop(32, 4),\n",
        "    transforms.ToTensor(),\n",
        "    normalize,\n",
        "])\n",
        "\n",
        "\n",
        "train_data = datasets.CIFAR10('data', train=True, download=True, transform=transform)\n",
        "test_data = datasets.CIFAR10('data', train=False, download=True, transform=transform)"
      ],
      "metadata": {
        "id": "Avh2Gc1AJM8H",
        "colab": {
          "base_uri": "https://localhost:8080/"
        },
        "outputId": "0f72a174-70c6-4d1e-89c7-f379f150951a"
      },
      "execution_count": 9,
      "outputs": [
        {
          "output_type": "stream",
          "name": "stdout",
          "text": [
            "Files already downloaded and verified\n",
            "Files already downloaded and verified\n"
          ]
        }
      ]
    },
    {
      "cell_type": "code",
      "source": [
        "def build_loaders(train_data: torch.utils.data.Dataset,\n",
        "                  test_data: torch.utils.data.Dataset,\n",
        "                  train_ratio: float=0.8,\n",
        "                  val_ratio: float=0.2,\n",
        "                  batch_size:int=batch_size) -> Tuple[DataLoader, DataLoader, DataLoader]:\n",
        "    \"\"\"\n",
        "    Args:\n",
        "    - train_data: CIFAR-10 train data\n",
        "    - test_data: CIFAR-10 test data\n",
        "    - train_ratio: ratio of training\n",
        "    - val_ratio: ratio of validation\n",
        "    - batch_size: Batch size\n",
        "    Returns:\n",
        "    - train_loader: Dataloader for training\n",
        "    - val_loader: Dataloader for validation\n",
        "    - test_loader: Dataloader for test\n",
        "    \"\"\"\n",
        "    # TODO: Random split CIFAR-10 train-validation sets\n",
        "    [train_split, valid_split] = torch.utils.data.random_split(train_data, [train_ratio, val_ratio])\n",
        "\n",
        "\n",
        "    # TODO: Return train/val/test loaders\n",
        "    return DataLoader(train_split, batch_size, shuffle=True), DataLoader(valid_split, batch_size, shuffle=True), DataLoader(test_data, batch_size, shuffle=True)\n"
      ],
      "metadata": {
        "id": "dx555ITFyMnG"
      },
      "execution_count": 10,
      "outputs": []
    },
    {
      "cell_type": "code",
      "source": [
        "train_loader, val_loader, test_loader = build_loaders(train_data, test_data)"
      ],
      "metadata": {
        "id": "44coe7-Czl36"
      },
      "execution_count": 11,
      "outputs": []
    },
    {
      "cell_type": "markdown",
      "source": [
        "### Visualize a Batch of Training Data"
      ],
      "metadata": {
        "id": "rf4360OAMnts"
      }
    },
    {
      "cell_type": "code",
      "source": [
        "show_batch(train_loader)"
      ],
      "metadata": {
        "id": "47UhuMrGMnOZ",
        "colab": {
          "base_uri": "https://localhost:8080/",
          "height": 539
        },
        "outputId": "d070da6f-db8f-4bee-97e6-b98cc6c27f36"
      },
      "execution_count": 12,
      "outputs": [
        {
          "output_type": "stream",
          "name": "stderr",
          "text": [
            "WARNING:matplotlib.image:Clipping input data to the valid range for imshow with RGB data ([0..1] for floats or [0..255] for integers).\n",
            "WARNING:matplotlib.image:Clipping input data to the valid range for imshow with RGB data ([0..1] for floats or [0..255] for integers).\n",
            "WARNING:matplotlib.image:Clipping input data to the valid range for imshow with RGB data ([0..1] for floats or [0..255] for integers).\n",
            "WARNING:matplotlib.image:Clipping input data to the valid range for imshow with RGB data ([0..1] for floats or [0..255] for integers).\n",
            "WARNING:matplotlib.image:Clipping input data to the valid range for imshow with RGB data ([0..1] for floats or [0..255] for integers).\n",
            "WARNING:matplotlib.image:Clipping input data to the valid range for imshow with RGB data ([0..1] for floats or [0..255] for integers).\n",
            "WARNING:matplotlib.image:Clipping input data to the valid range for imshow with RGB data ([0..1] for floats or [0..255] for integers).\n",
            "WARNING:matplotlib.image:Clipping input data to the valid range for imshow with RGB data ([0..1] for floats or [0..255] for integers).\n",
            "WARNING:matplotlib.image:Clipping input data to the valid range for imshow with RGB data ([0..1] for floats or [0..255] for integers).\n",
            "WARNING:matplotlib.image:Clipping input data to the valid range for imshow with RGB data ([0..1] for floats or [0..255] for integers).\n",
            "WARNING:matplotlib.image:Clipping input data to the valid range for imshow with RGB data ([0..1] for floats or [0..255] for integers).\n",
            "WARNING:matplotlib.image:Clipping input data to the valid range for imshow with RGB data ([0..1] for floats or [0..255] for integers).\n",
            "WARNING:matplotlib.image:Clipping input data to the valid range for imshow with RGB data ([0..1] for floats or [0..255] for integers).\n",
            "WARNING:matplotlib.image:Clipping input data to the valid range for imshow with RGB data ([0..1] for floats or [0..255] for integers).\n",
            "WARNING:matplotlib.image:Clipping input data to the valid range for imshow with RGB data ([0..1] for floats or [0..255] for integers).\n",
            "WARNING:matplotlib.image:Clipping input data to the valid range for imshow with RGB data ([0..1] for floats or [0..255] for integers).\n",
            "WARNING:matplotlib.image:Clipping input data to the valid range for imshow with RGB data ([0..1] for floats or [0..255] for integers).\n",
            "WARNING:matplotlib.image:Clipping input data to the valid range for imshow with RGB data ([0..1] for floats or [0..255] for integers).\n",
            "WARNING:matplotlib.image:Clipping input data to the valid range for imshow with RGB data ([0..1] for floats or [0..255] for integers).\n",
            "WARNING:matplotlib.image:Clipping input data to the valid range for imshow with RGB data ([0..1] for floats or [0..255] for integers).\n"
          ]
        },
        {
          "output_type": "display_data",
          "data": {
            "text/plain": [
              "<Figure size 2500x400 with 20 Axes>"
            ],
            "image/png": "[encoded data removed]"
          },
          "metadata": {}
        }
      ]
    },
    {
      "cell_type": "markdown",
      "source": [
        "# Question 2. Implementing Conv2d (20 points)\n",
        "In this question, you are asked to implement a multi-channel convolution operator for 2D images, a.k.a., a 2D cross-correlation operator. If you directly use PyTorch's built-in conv2d class (e.g., ```torch.nn.Conv2d``` or ```torch.nn.functional.conv2d```), you will only receive one mark for this question. But, you're welcome to use Pytorch's built-in ```pad``` function. You can use ```verify_conv2d()``` to compare your Conv2d operator with PyTorch's built-in conv2d operator. Please fill out the ```forward``` function in ```Conv2d```."
      ],
      "metadata": {
        "id": "-jJQY-YXNCw4"
      }
    },
    {
      "cell_type": "code",
      "source": [
        "class Conv2d(nn.Module):\n",
        "    def __init__(self, in_channels, out_channels, kernel_size, stride=1, padding=0):\n",
        "        super(Conv2d, self).__init__()\n",
        "\n",
        "        assert in_channels > 0 and out_channels > 0 and kernel_size > 0\n",
        "        self.kernel_size = kernel_size\n",
        "        self.stride = stride\n",
        "        self.padding = padding\n",
        "        self.weight = nn.Parameter(torch.randn(out_channels, in_channels, kernel_size, kernel_size))\n",
        "        self.bias = nn.Parameter(torch.randn(out_channels))\n",
        "\n",
        "    def forward(self, x):\n",
        "        \"\"\"\n",
        "        Args:\n",
        "        - x: input tensor\n",
        "        Returns:\n",
        "        - output: convoluted tensor\n",
        "        \"\"\"\n",
        "        n, cin, hin, win = x.shape\n",
        "        cout = self.weight.shape[0]\n",
        "        cin = self.weight.shape[1]\n",
        "\n",
        "        hout = floor((hin + 2*self.padding - self.kernel_size)/self.stride + 1)\n",
        "        wout = floor((win + 2*self.padding - self.kernel_size)/self.stride + 1)\n",
        "\n",
        "        res = torch.zeros(n, cout, hout, wout)\n",
        "        for ni in range(n):\n",
        "          for j in range(cout):\n",
        "            # 2D cross-correlation operation\n",
        "            for h in range(hout):\n",
        "              for w in range(wout):\n",
        "                for i in range(cin):\n",
        "                  inputs = F.pad(x[ni, i, :, :], (self.padding, self.padding, self.padding, self.padding))\n",
        "                  block = inputs[h*self.stride : h*self.stride + self.kernel_size, w*self.stride : w*self.stride + self.kernel_size]\n",
        "                  res[ni , j, h, w] += torch.sum(self.weight[j, i] * block)\n",
        "            # Bias\n",
        "            res[ni, j, : , :] += self.bias[j]\n",
        "\n",
        "        return res\n"
      ],
      "metadata": {
        "id": "DnfpDVNmLPxn"
      },
      "execution_count": 13,
      "outputs": []
    },
    {
      "cell_type": "code",
      "source": [
        "conv2d_passed = verify_conv2d()\n",
        "print('Passed conv2d test:', conv2d_passed)"
      ],
      "metadata": {
        "id": "cZOvdm6u5shj",
        "colab": {
          "base_uri": "https://localhost:8080/"
        },
        "outputId": "3a14dbb6-ca89-4351-a93d-35e26883f92c"
      },
      "execution_count": 14,
      "outputs": [
        {
          "output_type": "stream",
          "name": "stdout",
          "text": [
            "Passed conv2d test: True\n"
          ]
        }
      ]
    },
    {
      "cell_type": "markdown",
      "source": [
        "# Question 3. Dropout (20 points)\n",
        "In this question, you are asked to implement a dropout layer. If you directly use PyTorch's built-in dropout class (e.g., ```torch.nn.Dropout``` or ```torch.nn.functional.dropout```), you will only receive one mark for this question."
      ],
      "metadata": {
        "id": "RBf8-fxcO99Z"
      }
    },
    {
      "cell_type": "markdown",
      "source": [
        "## Question 3.1 Should We Rescale Our Dropout Output? (10 points)\n",
        "Consider a simple scenario where there is an input vector $\\mathbf{x}$ and a linear layer with weights $\\mathbf{w}$ and zero bias. Before this linear layer, we add a dropout layer with dropout probability $p$. Should we rescale the output of the dropout layer? Please state your choice and explain your reasoning. If you choose to rescale the dropout output, what should the rescale factor be? (Tip: What is the ***unbiased*** estimator for the output during the training time?)"
      ],
      "metadata": {
        "id": "kLvDfMovP0R7"
      }
    },
    {
      "cell_type": "markdown",
      "source": [
        "### Your answer for question 3.1: Yes we should rescale the output. Since the dropout layer is only present during the training phase, the output of the layer during inference phase would be larger as a percentage of neurons were deactivated during training. During training phase, the expected value is $(1-p)E[W^tx]$ since p is the probability a neuron is zeroed out. We should rescale the factor by $\\frac{1}{1-p}$ to compensate."
      ],
      "metadata": {
        "id": "NnNc3XndRa8t"
      }
    },
    {
      "cell_type": "markdown",
      "source": [
        "## Question 3.2 Implement your Dropout Layer (10 points)\n",
        "Based on the above question, you should implement your own scaled/unscaled dropout layer. You can use ```verify_dropout()``` to compare your dropout layer with PyTorch's built-in dropout layer. Please fill out the ```forward``` function in ```Dropout```."
      ],
      "metadata": {
        "id": "YWjsXknhe0Q9"
      }
    },
    {
      "cell_type": "code",
      "source": [
        "class Dropout(nn.Module):\n",
        "    def __init__(self, p):\n",
        "        super(Dropout, self).__init__()\n",
        "        \"\"\"\n",
        "        Args:\n",
        "        - p: dropout rate\n",
        "        \"\"\"\n",
        "        assert p >= 0 and p <= 1\n",
        "        self.p = p\n",
        "\n",
        "    def forward(self, x):\n",
        "        \"\"\"\n",
        "        Args:\n",
        "        - x: input tensor\n",
        "        Returns:\n",
        "        - output: dropout tensor\n",
        "        \"\"\"\n",
        "        res = x.clone()\n",
        "\n",
        "        if self.training:\n",
        "          mask = torch.bernoulli(torch.full(x.shape, 1-self.p))\n",
        "          mask = mask.to(device)\n",
        "          res *= mask/(1-self.p)\n",
        "\n",
        "        return res\n"
      ],
      "metadata": {
        "id": "dcGR65Q8lX90"
      },
      "execution_count": 15,
      "outputs": []
    },
    {
      "cell_type": "code",
      "source": [
        "verify_dropout()"
      ],
      "metadata": {
        "id": "6crMyRFtKjQm",
        "colab": {
          "base_uri": "https://localhost:8080/"
        },
        "outputId": "b9bbf5b4-dd03-4908-d943-7dfae0491004"
      },
      "execution_count": 16,
      "outputs": [
        {
          "output_type": "stream",
          "name": "stdout",
          "text": [
            "x dot product weight tensor(-4.3127, device='cuda:0')\n",
            "Empirical mean of Pytorch Dropout result tensor(-4.3177, device='cuda:0')\n",
            "Empirical mean of Custom Dropout result tensor(-4.3117, device='cuda:0')\n"
          ]
        }
      ]
    },
    {
      "cell_type": "markdown",
      "source": [
        "# Question 4. Implementing BatchNorm2d (15 points)\n",
        "In this question, you are asked to implement BatchNorm2d for the training stage. If you directly use PyTorch's built-in batch normalization 2d class (e.g., ```torch.nn.BatchNorm2d``` or ```torch.nn.functional.batch_norm```), you will only receive one mark for this question. You can use ```verify_batchnorm()``` to compare your BatchNorm2d with PyTorch's built-in BatchNorm2d. Please fill out the ```forward``` function in ```BatchNoram2d``` for training."
      ],
      "metadata": {
        "id": "_kNvxwFYXx1q"
      }
    },
    {
      "cell_type": "markdown",
      "source": [
        "### Tips:\n",
        "During training. Given a batch $\\mathcal{B} = \\{\\mathbf{x}^{(1)}, \\dots, \\mathbf{x}^{(m)}\\}$ with size $m$. We use $\\mathbf{x}^{(i)}$ to represent $j$-th channel in $i$-th sample. For each channel $j$, we need to compute\n",
        "$\\boldsymbol{\\mu}_{j} = \\frac{1}{m}\\sum_{i=1}^{m} \\mathbf{x}^{(i)}_j$ and\n",
        "$\\boldsymbol{\\sigma}_{j}^2 = \\frac{1}{m}\\sum_{i=1}^m (\\mathbf{x}^{(i)}_j - \\boldsymbol{\\mu}_j)^2.$ Then, there are learnable parameters $\\gamma$ and $\\beta$. $$BN(\\mathbf{x}^{(i)}_j) = \\gamma \\frac{\\mathbf{x}^{(i)}_j - \\boldsymbol{\\mu}_j}{\\sqrt{\\boldsymbol{\\sigma}^2_j + \\epsilon}} + \\beta,$$\n",
        "where $\\epsilon$ is a hyperparameter for numerical stability. Again, the above equation is for each channel. If there are three channels, then there are three different $\\gamma$s and $\\beta$s for each channel.\n"
      ],
      "metadata": {
        "id": "01dvDi3dbe4f"
      }
    },
    {
      "cell_type": "code",
      "source": [
        "class BatchNorm2d(nn.Module):\n",
        "    def __init__(self, num_features, eps=1e-5, momentum=0.1):\n",
        "        super(BatchNorm2d, self).__init__()\n",
        "        self.num_features = num_features\n",
        "        self.eps = eps\n",
        "        self.momentum = momentum\n",
        "\n",
        "        self.weight = nn.Parameter(torch.ones(num_features))\n",
        "        self.bias = nn.Parameter(torch.zeros(num_features))\n",
        "\n",
        "        self.register_buffer('running_mean', torch.zeros(num_features))\n",
        "        self.register_buffer('running_var', torch.ones(num_features))\n",
        "\n",
        "        self.reset_parameters()\n",
        "\n",
        "    def reset_parameters(self):\n",
        "        self.running_mean.zero_()\n",
        "        self.running_var.fill_(1)\n",
        "        nn.init.uniform_(self.weight)\n",
        "        nn.init.zeros_(self.bias)\n",
        "\n",
        "    def forward(self, x):\n",
        "        if self.training:\n",
        "            # TODO: BatchNorm2d in training.\n",
        "            batch_mean = x.mean([0, 2, 3], keepdim=True)\n",
        "            batch_var = x.var([0, 2, 3], keepdim=True, unbiased=False)\n",
        "\n",
        "            # Update running statistics without in-place operations\n",
        "            self.running_mean = (1 - self.momentum) * self.running_mean.detach() + self.momentum * batch_mean.detach().squeeze()\n",
        "            self.running_var = (1 - self.momentum) * self.running_var.detach() + self.momentum * x.var([0, 2, 3], keepdim=True, unbiased=True).detach().squeeze()\n",
        "            # Thanks for correction in Piazza.\n",
        "\n",
        "            x = (x - batch_mean) / (batch_var + self.eps).sqrt()\n",
        "            pass\n",
        "        else:\n",
        "            x = (x - self.running_mean.view(1, self.num_features, 1, 1)) / \\\n",
        "                (self.running_var.view(1, self.num_features, 1, 1) + self.eps).sqrt()\n",
        "\n",
        "        x = x * self.weight.view(1, self.num_features, 1, 1) + self.bias.view(1, self.num_features, 1, 1)\n",
        "        return x\n"
      ],
      "metadata": {
        "id": "HoYJUj2BX1Y9"
      },
      "execution_count": 17,
      "outputs": []
    },
    {
      "cell_type": "code",
      "source": [
        "passed = verify_batchnorm()\n",
        "print('Customize BatchNormalization 2d passed: ', passed)"
      ],
      "metadata": {
        "id": "bQWY0KPgZeTp",
        "colab": {
          "base_uri": "https://localhost:8080/"
        },
        "outputId": "9ca00f56-d077-4e8d-8a5d-ff93ce3d887e"
      },
      "execution_count": 18,
      "outputs": [
        {
          "output_type": "stream",
          "name": "stdout",
          "text": [
            "Customize BatchNormalization 2d passed:  True\n"
          ]
        }
      ]
    },
    {
      "cell_type": "markdown",
      "source": [
        "# Question 5. Loss function and SGD (15 points)\n",
        "In this question, you are asked to implement cross-entropy loss and SGD. If you directly use PyTorch build-in functions, e.g., ```torch.nn.functional.cross_entropy``` or ```torch.nn.CrossEntropyLoss``` or ```torch.optim.SGD```, you will only receive one mark for this question. But, you're welcom to use ```torch.nn.functional.softmax``` or ```torch.logsumexp```"
      ],
      "metadata": {
        "id": "b_4n1LUPmMtP"
      }
    },
    {
      "cell_type": "markdown",
      "source": [
        "## Question 5.1. Computing graident of Cross-Entropy Loss. (5 points)\n",
        "\n",
        "Let $C$ be the number of classes. We define the cross-entropy loss as $L(\\hat{y}, k) = -\\sum_{i=1}^C y_i \\log \\hat{y}_i$, where $\\hat{y}$ is the output probability, $k$ is the true label, and $y = \\text{OneHot}(k)$. In practice, $\\hat{y} = \\text{softmax}(\\mathbf{W}f(\\mathbf{x}) + \\mathbf{b})$, where $\\mathbf{W} \\in \\mathbb{R}^{C \\times d}$, $\\mathbf{b} \\in \\mathbb{R}^C$, and $f(\\mathbf{x}) \\in \\mathbb{R}^d$. In this question, you are asked to compute the partial derivatives: $\\frac{\\partial L}{\\partial \\mathbf{W}{ij}}$ and $\\frac{\\partial L}{\\partial \\mathbf{b}_i}$."
      ],
      "metadata": {
        "id": "7Yejqtx36E8V"
      }
    },
    {
      "cell_type": "markdown",
      "source": [
        "#### Your Answer for Question 5.1:\n",
        "\n",
        "Let $z = W f(x) + b$.\n",
        "\n",
        "We have $L = -\\sum_{i=1}^C y_i \\log \\hat{y}_i$,\n",
        "\n",
        "$\\frac{\\partial L}{\\partial z_j} = -\\sum_{i=1}^C y_i \\frac{1}{\\hat{y}_i}\\frac{\\partial \\hat{y}_i}{\\partial z_j}$\n",
        "\n",
        "Consider $\\frac{\\partial \\hat{y}_i}{\\partial z_j}$,\n",
        "\n",
        "if $i = j$, $\\frac{\\partial \\hat{y}_j}{\\partial z_j} = \\frac{\\partial}{\\partial z_j} \\frac{e^{z_j}}{\\sum_k e^{z_k}} = \\frac{e^{z_j}(\\sum_k e^{z_k}) - (e^{z_j})^2}{(\\sum_k e^{z_k})^2} = \\hat{y}_j - \\hat{y}_j^2 = \\hat{y}_j(1 - \\hat{y}_j)$\n",
        "\n",
        "if $i \\neq j$, $\\frac{\\partial \\hat{y}_i}{\\partial z_j} = \\frac{\\partial}{\\partial z_j} \\frac{e^{z_i}}{\\sum_k e^{z_k}} = -\\frac{e^{z_i}e^{z_j}}{(\\sum_k e^{z_k})^2} = -\\hat{y}_i\\hat{y}_j$\n",
        "\n",
        "Thus $\\frac{\\partial L}{\\partial z_j} =  -\\sum_{i=1}^C y_i \\frac{1}{\\hat{y}_i}\\frac{\\partial \\hat{y}_i}{\\partial z_j} = -y_j(1-\\hat{y}_j) - \\sum_{j \\neq k}y_k \\frac{1}{\\hat{y}_k}(-\\hat{y}_k\\hat{y}_j$)$ = -y_j(1-\\hat{y}_j) - \\sum_{j \\neq k}y_k \\frac{1}{\\hat{y}_k}(-\\hat{y}_k\\hat{y}_j) = -y_j + y_j\\hat{y}_j + \\sum_{j \\neq k}y_k\\hat{y}_j = \\hat{y}_j \\sum_k y_k - y_j = \\hat{y}_j - y_j$\n",
        "\n",
        "Note $z_k = \\sum_i W_{kj} f(x)_j + b_k$. If $k = i$, $\\frac{\\partial z_k}{\\partial \\mathbf{W}{ij}} = f(x)_j$ and $\\frac{\\partial z_k}{\\partial b_i} = 1$ else both are zero as there are no $W_{ij}$ term.\n",
        "\n",
        "Thus by chain rule,\n",
        "\n",
        "$\\frac{\\partial L}{\\partial \\mathbf{W}{ij}} = \\sum_k \\frac{\\partial L}{\\partial z_k} \\frac{\\partial z_k}{\\partial \\mathbf{W}{ij}} = \\frac{\\partial L}{\\partial z_i} \\frac{\\partial z_i}{\\partial \\mathbf{W}{ij}} = (\\hat{y}_i - y_i)f(x)_j$\n",
        "\n",
        "$\\frac{\\partial L}{\\partial \\mathbf{b}_i} = \\sum_k \\frac{\\partial L}{\\partial z_k} \\frac{\\partial z_k}{\\partial b_i} = \\frac{\\partial L}{\\partial z_i} \\frac{\\partial z_i}{\\partial b_i} = \\hat{y}_i - y_i$"
      ],
      "metadata": {
        "id": "sbeZTL34_KHo"
      }
    },
    {
      "cell_type": "markdown",
      "source": [
        "## Question 5.2. Implementing Cross Entropy Loss. (5 points)\n",
        "Please fill out ```cross_entropy``` function."
      ],
      "metadata": {
        "id": "PPMsAq5bBwot"
      }
    },
    {
      "cell_type": "code",
      "source": [
        "def cross_entropy(logits, labels):\n",
        "    \"\"\"\n",
        "    Args:\n",
        "    - logits: Tensor of logits (shape: [batch_size, num_classes]).\n",
        "    - labels: LongTensor of labels (shape: [batch_size]).\n",
        "\n",
        "    Returns:\n",
        "    - loss: the mean cross entropy loss.\n",
        "    \"\"\"\n",
        "    if not labels.dtype == torch.long:\n",
        "        raise ValueError(\"Labels dtype should be torch.long\")\n",
        "\n",
        "    output_prob = torch.nn.functional.softmax(logits, dim=1)\n",
        "    y = output_prob[torch.arange(len(logits)), labels]\n",
        "    loss = -1* torch.log(y)\n",
        "\n",
        "    return loss.mean()"
      ],
      "metadata": {
        "id": "u87aoD-5oMlP"
      },
      "execution_count": 19,
      "outputs": []
    },
    {
      "cell_type": "markdown",
      "source": [
        "## Question 5.3. Implementing SGD (5 points)\n",
        "Please fill out the ```step``` function in ```SGD```."
      ],
      "metadata": {
        "id": "e3tqEAg1CDDk"
      }
    },
    {
      "cell_type": "code",
      "source": [
        "class SGD(Optimizer):\n",
        "    def __init__(self, params, lr=0.01):\n",
        "        if lr < 0.0:\n",
        "            raise ValueError(\"Invalid learning rate: {}\".format(lr))\n",
        "\n",
        "        defaults = dict(lr=lr)\n",
        "        super(SGD, self).__init__(params, defaults)\n",
        "\n",
        "    def step(self, closure=None):\n",
        "        \"\"\"\n",
        "        Performs a single optimization step (parameter update).\n",
        "\n",
        "        Args:\n",
        "            closure (callable, optional): A closure that re-evaluates the model\n",
        "                and returns the loss. This is useful for certain types of\n",
        "                optimization algorithms that require re-evaluation of the loss.\n",
        "                For simple SGD, this is not typically used, i.e., closure=None.\n",
        "\n",
        "        Returns:\n",
        "            The loss returned by the closure if it is provided; otherwise, None.\n",
        "        \"\"\"\n",
        "        loss = None\n",
        "        if closure is not None:\n",
        "            loss = closure()\n",
        "\n",
        "        for group in self.param_groups:\n",
        "            for p in group['params']:\n",
        "                if p.grad is None:\n",
        "                    continue\n",
        "                d_p = p.grad.data\n",
        "                d_p.mul_(group['lr'])\n",
        "                p.data.add_(-1, d_p)\n",
        "\n",
        "        return loss"
      ],
      "metadata": {
        "id": "FTDlVTxKootN"
      },
      "execution_count": 20,
      "outputs": []
    },
    {
      "cell_type": "markdown",
      "source": [
        "# Question 6. Combine them together to train a simple CNN (25 Points)\n",
        "\n",
        "In this exercise, you will leverage the custom ```Dropout``` and ```BatchNorm2d``` layers developed in previous questions to construct a simple CNN To enhance computational efficiency, please utilize ```nn.Conv2d``` for the convolution operations. The training process will employ ```cross_entropy``` as the loss function, with ```SGD``` serving as the optimizer to this model.\n",
        "\n",
        "Throughout the training phase, you should save the model that achieves the highest accuracy on the validation set. This step ensures that you can report the performance of the optimally performing model. Further, you should use ```plot_curves()``` to show the training/validation error rates."
      ],
      "metadata": {
        "id": "g74ZJzJkqDRz"
      }
    },
    {
      "cell_type": "markdown",
      "source": [
        "## Question 6.1\n",
        "In this question, you are required to build a simple CNN. This CNN should contain three convolutional blocks. Each block consists of the following layers: Conv2d, BatchNorm2d, ReLU, and MaxPool2d.\n",
        "\n",
        "Every Conv2d layer must have a ```kernel_size = 2``` and ```padding = 1```. The input_channels and output_channels for each convolutional layer are specified as follows: [(3, 16), (16, 32), (32, 64)]. For instance, the second Conv2d layer should have ```input_channels = 16``` and ```output_channels = 32```. After these three convolutional blocks, you must add an MLP as a classifier. The architecture of this MLP is (Linear(input_dim, hidden_dim), ReLU, Dropout, Linear(hidden_dim, num_classes)), where ```hidden_dim = 512```, ```num_classes = 10```, ```p=0.25``` for ```Dropout```. Please use MaxPool2d with ```kernel_size = 2``` and ```stride =2``` You need to determine the correct ```input_dim```.\n",
        "\n",
        "Pleas fill out ```__init__``` and ```forward``` in ```SimpleCNN```."
      ],
      "metadata": {
        "id": "Rtoe5_EN2-_Y"
      }
    },
    {
      "cell_type": "code",
      "source": [
        "class SimpleCNN(nn.Module):\n",
        "    def __init__(self, num_classes=10):\n",
        "        super(SimpleCNN, self).__init__()\n",
        "        self.conv1 = nn.Conv2d(3,16,2, padding=1)\n",
        "        self.conv2 = nn.Conv2d(16,32,2, padding=1)\n",
        "        self.conv3 = nn.Conv2d(32,64,2, padding=1)\n",
        "        self.batch1 = BatchNorm2d(16)\n",
        "        self.batch2 = BatchNorm2d(32)\n",
        "        self.batch3 = BatchNorm2d(64)\n",
        "        self.linear1 = nn.Linear(64 * 4 * 4, 512)\n",
        "        self.linear2 = nn.Linear(512, num_classes)\n",
        "        self.pool = nn.MaxPool2d(kernel_size=2, stride=2, padding=0)\n",
        "        self.relu = nn.ReLU()\n",
        "        self.dropout = Dropout(0.25)\n",
        "\n",
        "\n",
        "    def forward(self, x):\n",
        "        x = self.pool(self.relu(self.batch1(self.conv1(x))))\n",
        "        x = self.pool(self.relu(self.batch2(self.conv2(x))))\n",
        "        x = self.pool(self.relu(self.batch3(self.conv3(x))))\n",
        "        x = torch.flatten(x, 1)\n",
        "        x = self.linear1(x)\n",
        "        x = self.relu(x)\n",
        "        x = self.dropout(x)\n",
        "        x = self.linear2(x)\n",
        "        return x\n"
      ],
      "metadata": {
        "id": "67TqcInCnL51"
      },
      "execution_count": 21,
      "outputs": []
    },
    {
      "cell_type": "markdown",
      "source": [
        "## Question 6.2. Train a simple CNN.\n",
        "In this question, you are to train a simple CNN for ```lr = 0.01``` using your SGD optimizer."
      ],
      "metadata": {
        "id": "Y6dGRIuF3YtA"
      }
    },
    {
      "cell_type": "code",
      "source": [
        "n_epochs = 50\n",
        "eval_interval = 10\n",
        "model = SimpleCNN()\n",
        "model.to(device)\n",
        "optimizer = SGD(model.parameters(), lr=0.01)\n",
        "min_error = 1.0\n",
        "train_error_rates, val_error_rates = [], []\n",
        "running_loss = 0\n",
        "running_steps = 0\n",
        "\n",
        "for epoch in tqdm(range(1, n_epochs + 1)):\n",
        "    model.train()\n",
        "    for imgs, labels in train_loader:\n",
        "        imgs, labels = imgs.to(device), labels.to(device)\n",
        "        logits = model(imgs)\n",
        "        optimizer.zero_grad()\n",
        "        loss = cross_entropy(logits, labels)\n",
        "        loss.backward()\n",
        "        optimizer.step()\n",
        "        running_loss += loss.item()\n",
        "        running_steps += 1\n",
        "\n",
        "    if epoch % eval_interval == 0:\n",
        "        train_error = 1 - eval_accuracy(model, train_loader, device)\n",
        "        val_error = 1 - eval_accuracy(model, val_loader, device)\n",
        "        val_error_rates.append(val_error)\n",
        "        train_error_rates.append(train_error)\n",
        "        # Append your error rates for plotting\n",
        "\n",
        "        print('Epoch: %d' % epoch)\n",
        "        print('Average training loss: %.3f' % (running_loss / running_steps))\n",
        "        print('Current validation error rate: %.3f' % (val_error * 100.0))\n",
        "        running_loss, running_steps = 0., 0\n",
        "        if val_error < min_error:\n",
        "            print('Val error rate is decreasing: {%.2f%%} -> {%.2f%%}' % (min_error * 100.0, val_error * 100.0))\n",
        "            torch.save(model.state_dict(), 'model_parameters.pth')\n",
        "            print('Model saved')\n",
        "\n",
        "        min_error = min(val_error, min_error)"
      ],
      "metadata": {
        "id": "2S2JeX8e4Lo5",
        "colab": {
          "base_uri": "https://localhost:8080/"
        },
        "outputId": "eb30b9ef-cccf-40b9-af95-4211805833f8"
      },
      "execution_count": 22,
      "outputs": [
        {
          "output_type": "stream",
          "name": "stderr",
          "text": [
            "\r  0%|          | 0/50 [00:00<?, ?it/s]<ipython-input-20-da74309fb209>:32: UserWarning: This overload of add_ is deprecated:\n",
            "\tadd_(Number alpha, Tensor other)\n",
            "Consider using one of the following signatures instead:\n",
            "\tadd_(Tensor other, *, Number alpha) (Triggered internally at ../torch/csrc/utils/python_arg_parser.cpp:1519.)\n",
            "  p.data.add_(-1, d_p)\n",
            " 20%|██        | 10/50 [03:23<16:06, 24.16s/it]"
          ]
        },
        {
          "output_type": "stream",
          "name": "stdout",
          "text": [
            "Epoch: 10\n",
            "Average training loss: 1.479\n",
            "Current validation error rate: 46.060\n",
            "Val error rate is decreasing: {100.00%} -> {46.06%}\n",
            "Model saved\n"
          ]
        },
        {
          "output_type": "stream",
          "name": "stderr",
          "text": [
            " 40%|████      | 20/50 [06:43<12:02, 24.09s/it]"
          ]
        },
        {
          "output_type": "stream",
          "name": "stdout",
          "text": [
            "Epoch: 20\n",
            "Average training loss: 1.126\n",
            "Current validation error rate: 41.490\n",
            "Val error rate is decreasing: {46.06%} -> {41.49%}\n",
            "Model saved\n"
          ]
        },
        {
          "output_type": "stream",
          "name": "stderr",
          "text": [
            " 60%|██████    | 30/50 [10:03<08:02, 24.15s/it]"
          ]
        },
        {
          "output_type": "stream",
          "name": "stdout",
          "text": [
            "Epoch: 30\n",
            "Average training loss: 1.000\n",
            "Current validation error rate: 34.360\n",
            "Val error rate is decreasing: {41.49%} -> {34.36%}\n",
            "Model saved\n"
          ]
        },
        {
          "output_type": "stream",
          "name": "stderr",
          "text": [
            " 80%|████████  | 40/50 [13:23<04:00, 24.00s/it]"
          ]
        },
        {
          "output_type": "stream",
          "name": "stdout",
          "text": [
            "Epoch: 40\n",
            "Average training loss: 0.919\n",
            "Current validation error rate: 31.450\n",
            "Val error rate is decreasing: {34.36%} -> {31.45%}\n",
            "Model saved\n"
          ]
        },
        {
          "output_type": "stream",
          "name": "stderr",
          "text": [
            "100%|██████████| 50/50 [16:44<00:00, 20.08s/it]"
          ]
        },
        {
          "output_type": "stream",
          "name": "stdout",
          "text": [
            "Epoch: 50\n",
            "Average training loss: 0.855\n",
            "Current validation error rate: 30.420\n",
            "Val error rate is decreasing: {31.45%} -> {30.42%}\n",
            "Model saved\n"
          ]
        },
        {
          "output_type": "stream",
          "name": "stderr",
          "text": [
            "\n"
          ]
        }
      ]
    },
    {
      "cell_type": "code",
      "source": [
        "model.load_state_dict(torch.load('model_parameters.pth'))\n",
        "test_acc = eval_accuracy(model, test_loader, device)\n",
        "print('Test accuracy = %.2f%%' % (test_acc * 100))"
      ],
      "metadata": {
        "id": "3c0netYoAF6O",
        "colab": {
          "base_uri": "https://localhost:8080/"
        },
        "outputId": "05dba287-ce42-4206-e1c0-00132f85d7d2"
      },
      "execution_count": 23,
      "outputs": [
        {
          "output_type": "stream",
          "name": "stdout",
          "text": [
            "Test accuracy = 69.90%\n"
          ]
        }
      ]
    },
    {
      "cell_type": "code",
      "source": [
        "plot_curves(train_error_rates, val_error_rates)"
      ],
      "metadata": {
        "id": "rKYdQRf8knlj",
        "colab": {
          "base_uri": "https://localhost:8080/",
          "height": 561
        },
        "outputId": "b8378e96-77d9-452a-e630-34e1abe7e0c0"
      },
      "execution_count": 24,
      "outputs": [
        {
          "output_type": "display_data",
          "data": {
            "text/plain": [
              "<Figure size 1000x600 with 1 Axes>"
            ],
            "image/png": "[encoded data removed]"
          },
          "metadata": {}
        }
      ]
    }
  ],
  "metadata": {
    "anaconda-cloud": {},
    "kernelspec": {
      "display_name": "Python 3",
      "name": "python3"
    },
    "language_info": {
      "codemirror_mode": {
        "name": "ipython",
        "version": 3
      },
      "file_extension": ".py",
      "mimetype": "text/x-python",
      "name": "python",
      "nbconvert_exporter": "python",
      "pygments_lexer": "ipython3",
      "version": "3.9.18"
    },
    "toc": {
      "base_numbering": 1,
      "nav_menu": {},
      "number_sections": true,
      "sideBar": true,
      "skip_h1_title": false,
      "title_cell": "Table of Contents",
      "title_sidebar": "Contents",
      "toc_cell": false,
      "toc_position": {},
      "toc_section_display": true,
      "toc_window_display": false
    },
    "varInspector": {
      "cols": {
        "lenName": 16,
        "lenType": 16,
        "lenVar": 40
      },
      "kernels_config": {
        "python": {
          "delete_cmd_postfix": "",
          "delete_cmd_prefix": "del ",
          "library": "var_list.py",
          "varRefreshCmd": "print(var_dic_list())"
        },
        "r": {
          "delete_cmd_postfix": ") ",
          "delete_cmd_prefix": "rm(",
          "library": "var_list.r",
          "varRefreshCmd": "cat(var_dic_list()) "
        }
      },
      "types_to_exclude": [
        "module",
        "function",
        "builtin_function_or_method",
        "instance",
        "_Feature"
      ],
      "window_display": false
    },
    "colab": {
      "provenance": [],
      "gpuType": "T4",
      "machine_shape": "hm"
    },
    "accelerator": "GPU"
  },
  "nbformat": 4,
  "nbformat_minor": 0
}